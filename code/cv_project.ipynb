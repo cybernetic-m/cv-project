{
  "cells": [
    {
      "cell_type": "markdown",
      "metadata": {
        "id": "uZQ3yrZuZsXx"
      },
      "source": [
        "# Initialization"
      ]
    },
    {
      "cell_type": "markdown",
      "source": [
        "### Installation"
      ],
      "metadata": {
        "id": "yt-OTzpxBk3q"
      }
    },
    {
      "cell_type": "markdown",
      "metadata": {
        "id": "KGd-QE_AX-bs"
      },
      "source": [
        "In this section there are the installation needed for the rest of the code:\n",
        "\n",
        "1. *gdown* : This package is used for downloading files from Google Drive. It's handy for fetching data or models stored on Google Drive links.\n",
        "\n",
        "2. *tqdm* : This package provides a progress bar for iterables (like loops or file downloads) in Python. It makes it easier to track the progress of lengthy operations.\n",
        "\n",
        "3. *pytorch_ligthning* : This is a high-level interface for PyTorch that makes it easier to train complex models. It provides abstractions and utilities for training neural networks.\n",
        "\n",
        "4. *torchvision* : This package provides popular datasets, model architectures, and image transformations for computer vision tasks in PyTorch.\n",
        "\n",
        "5. *wget* : This package is used for programmatically downloading files from the internet using HTTP or FTP protocols.\n",
        "\n",
        "6. *pykan* : This package is needed for the implementation of the KAN networks"
      ]
    },
    {
      "cell_type": "code",
      "execution_count": 1,
      "metadata": {
        "id": "pqZNQdxgZe3v"
      },
      "outputs": [],
      "source": [
        "%%capture\n",
        "!pip install gdown tqdm\n",
        "!pip install pytorch_lightning torchvision --quiet\n",
        "!pip install pykan"
      ]
    },
    {
      "cell_type": "markdown",
      "source": [
        "### Import of libraries"
      ],
      "metadata": {
        "id": "ecVBSRTQBmdb"
      }
    },
    {
      "cell_type": "markdown",
      "metadata": {
        "id": "USfihjHDbYXe"
      },
      "source": [
        "In this section there is the libraries import:\n",
        "\n",
        "1. *numpy* : This library is used for numerical computations and array manipulations in Python.\n",
        "\n",
        "\n",
        "2. *torch* : this library is widely used for building and training deep learning models. In particular **torch.nn** is the neural network module used for building and training neural networks\n",
        "\n",
        "3. *torch.utils.data* :\n",
        "\n",
        "*   **random_split**: A utility function from PyTorch for splitting datasets into random subsets, commonly used for creating train/validation/test splits.\n",
        "\n",
        "* **DataLoader**: Used for creating batches of data that can be fed into the neural network during training.\n",
        "\n",
        "* **Dataset**: The base class for all datasets in PyTorch. You can create custom datasets by subclassing Dataset and implementing methods like __len__ and __getitem__.\n",
        "\n",
        "4. *kan* : This is the library used to define the Kolgmorov-Arnold Networks\n",
        "\n",
        "5. *cv2* : Importing OpenCV, a popular library for computer vision tasks such as image processing, video capture, and computer vision algorithms.\n",
        "\n",
        "6. *PIL* : Importing the Python Imaging Library (PIL), which provides support for opening, manipulating, and saving many different image file formats.\n",
        "\n",
        "7. *matplotlib* : Importing matplotlib's pyplot module, commonly used for plotting and visualizing data.\n",
        "\n",
        "8. *os* : Standard library for interacting with the operating system, used here for file and directory operations.\n",
        "\n",
        "9. *google.colab* : Importing a module from Google Colab, a cloud-based Python environment, which allows you to mount Google Drive for accessing files stored there.\n",
        "\n",
        "10. *shutil* : shutil is a module in Python's standard library that provides a collection of high-level operations on files and collections of files. It offers functionalities for copying, moving, and removing files and directories."
      ]
    },
    {
      "cell_type": "code",
      "execution_count": 2,
      "metadata": {
        "id": "ODbC4xF6Zym4"
      },
      "outputs": [],
      "source": [
        "import numpy as np\n",
        "import torch\n",
        "import torch.nn as nn\n",
        "from torchvision import transforms\n",
        "from torchvision.transforms import ToPILImage\n",
        "from torchvision.io import read_image\n",
        "from torch.utils.data import random_split, DataLoader, Dataset\n",
        "\n",
        "from torchmetrics.classification import BinaryF1Score\n",
        "from torchmetrics.classification import BinaryAccuracy\n",
        "from torchmetrics.classification import BinaryRecall\n",
        "\n",
        "import pytorch_lightning as pl\n",
        "\n",
        "from kan import KAN\n",
        "\n",
        "import cv2\n",
        "from PIL import Image\n",
        "import matplotlib.pyplot as plt\n",
        "\n",
        "import os\n",
        "import gdown\n",
        "import zipfile\n",
        "import shutil\n",
        "from tqdm.notebook import tqdm\n",
        "from google.colab import drive\n",
        "\n",
        "import random\n"
      ]
    },
    {
      "cell_type": "markdown",
      "metadata": {
        "id": "86RET5RaaNKi"
      },
      "source": [
        "### GLOBAL DEFINITIONS\n",
        "\n",
        "Global variables where there are stored hyperparameters for the training and link, paths for the dataset."
      ]
    },
    {
      "cell_type": "code",
      "execution_count": 3,
      "metadata": {
        "id": "YswtWHEPaLP7"
      },
      "outputs": [],
      "source": [
        "global_var = {\n",
        "    # Dataset\n",
        "    'link_download_prefix' : 'https://drive.google.com/uc?export=download&id=YOUR_FILE_ID', # Generic link to download from Drive the file with id \"YOUR_FILE_ID\"\n",
        "    \"link_dataset\": \"https://drive.google.com/file/d/10un_W7teXQy9LOB1uqd0e6VJ46UFNRza/view?usp=drive_link0\", # The ID is \"10un_W7teXQy9LOB1uqd0e6VJ46UFNRza\" of the file\n",
        "    \"path_download_dataset\": \"/content/dataset.zip\", # Path of the runtime directory of Colab with the zipped dataset\n",
        "    \"extract_directory\": \"/content\", # Directory where we want to extract the zipped dataset\n",
        "    \"dataset_name\": \"chest_xray\", # Name of the dataset\n",
        "    \"dataset_name_resized\": \"chest_xray_resized\", # Name of the dataset resized\n",
        "    \"dataset_name_resized_augmented\": \"chest_xray_resized_augmented\", # Name of the dataset resized\n",
        "    \"dataset_name_heatmap\": \"chest_xray_heatmap\",\n",
        "    \"resizing_dim\": 1000,\n",
        "\n",
        "    # Network: KAN module\n",
        "    'input_dim': 10,       # input dimension of KAN\n",
        "    'hidden_dim': [40, 4], # hidden layers of KAN\n",
        "    'output_dim': 1,       # output layer, binary classification\n",
        "\n",
        "    # Train\n",
        "    'batch_size': 32,\n",
        "    'hidden_dim': 8,\n",
        "    'epochs': 10\n",
        "\n",
        "    # hyperparamter search\n",
        "}"
      ]
    },
    {
      "cell_type": "markdown",
      "metadata": {
        "id": "ztmhJrCtndIN"
      },
      "source": [
        "### Color Class\n",
        "This class is used for printing text in different color. In particular each attribute in the Color class corresponds to a specific text color or formatting style."
      ]
    },
    {
      "cell_type": "code",
      "execution_count": 4,
      "metadata": {
        "id": "-Q5lxLgy3E-z"
      },
      "outputs": [],
      "source": [
        "class Color:\n",
        "    RED = '\\033[91m'\n",
        "    GREEN = '\\033[92m'\n",
        "    YELLOW = '\\033[93m'\n",
        "    BLUE = '\\033[94m'\n",
        "    MAGENTA = '\\033[95m'\n",
        "    CYAN = '\\033[96m'\n",
        "    WHITE = '\\033[97m'\n",
        "    RESET = '\\033[0m' #RESET: Resets all text formatting and color to default\n",
        "    BOLD = '\\033[1m' #BOLD: Makes the text bold\n",
        "    UNDERLINE = '\\033[4m' #UNDERLINE: Underlines the text"
      ]
    },
    {
      "cell_type": "markdown",
      "metadata": {
        "id": "Y80hfJRBqsLM"
      },
      "source": [
        "Random Seed"
      ]
    },
    {
      "cell_type": "code",
      "execution_count": 5,
      "metadata": {
        "colab": {
          "base_uri": "https://localhost:8080/"
        },
        "id": "Zi41WSYW3jgC",
        "outputId": "3b7abd7f-4f5a-42f5-8c56-25233b87592e"
      },
      "outputs": [
        {
          "output_type": "stream",
          "name": "stderr",
          "text": [
            "INFO:lightning_fabric.utilities.seed:Seed set to 0\n"
          ]
        },
        {
          "output_type": "execute_result",
          "data": {
            "text/plain": [
              "0"
            ]
          },
          "metadata": {},
          "execution_count": 5
        }
      ],
      "source": [
        "# Set randomness always the same at each run\n",
        "pl.seed_everything(0)"
      ]
    },
    {
      "cell_type": "markdown",
      "metadata": {
        "id": "GgQdo_c94IG5"
      },
      "source": [
        "# Dataset Setup"
      ]
    },
    {
      "cell_type": "markdown",
      "source": [
        "## Initial setup"
      ],
      "metadata": {
        "id": "09Nrq6xD9viW"
      }
    },
    {
      "cell_type": "markdown",
      "metadata": {
        "id": "dBFYnapNrZVx"
      },
      "source": [
        "\n",
        "The function, given the link of the dataset in google drive, download it.\n",
        "\n",
        "Args:\n",
        "        \n",
        "1.   **link_dataset** = link to zip files\n",
        "2.   **delete_zip_file** = {True/False}, use to remove the zip file once extracted the content\n",
        "\n",
        "Note: the link my be public or gdown can't download it\n"
      ]
    },
    {
      "cell_type": "code",
      "execution_count": 6,
      "metadata": {
        "id": "Mk4TdLIY5CkF"
      },
      "outputs": [],
      "source": [
        "def download_dataset(link_dataset, delete_zip_file=False):\n",
        "\n",
        "    # Creating string for download\n",
        "\n",
        "    link_download_base =  global_var['link_download_prefix'] # General link for the download from Drive (with \"YOUR_FILE_ID\")\n",
        "    id_dataset = link_dataset.split(\"/view\")[0].split(\"/\")[-1]\n",
        "    dataset_download_link = link_download_base.replace(\"YOUR_FILE_ID\", id_dataset) # Replace the \"YOUR_FILE_ID\" part with the extracted id_dataset\n",
        "\n",
        "    path_download_dataset = global_var['path_download_dataset'] # Path of the zip file that contain the dataset\n",
        "    dataset_name = global_var['dataset_name'] # Dataset's Name\n",
        "    extract_directory = global_var['extract_directory'] # Directory of the GColab Runtime where we want to extract the dataset\n",
        "\n",
        "    # Downloading zip file\n",
        "    try:\n",
        "        if not( os.path.exists(dataset_name) ): # check is the dataset is already downloaded\n",
        "            gdown.download(\n",
        "                url=dataset_download_link, # Link that we extract with the file ID\n",
        "                output=path_download_dataset, # Path of the runtime Colab to save the zip file\n",
        "                quiet=False # Output to check the download\n",
        "            )\n",
        "            print(f\"{Color.GREEN}\\nZip file downloaded{Color.RESET}\")\n",
        "        else:\n",
        "            print(f\"{Color.GREEN}Zip file already downloaded{Color.RESET} \")\n",
        "    except Exception as error:\n",
        "        print(f\"{Color.RED}Download went wrong!\\nerror:{Color.RESET}\")\n",
        "        print(error)\n",
        "\n",
        "\n",
        "    # Unzipping the file\n",
        "    '''\n",
        "    In this part we want to unzip the zip file contain the dataset\n",
        "    '''\n",
        "    try:\n",
        "        if not( os.path.exists(dataset_name) ):\n",
        "\n",
        "          # This open the file zip in path_download_dataset in 'r' = read mode.\n",
        "          # The file is created from the ZipFile class contained in zipfile module\n",
        "          # and the name of the instance will be zipfile\n",
        "\n",
        "            with zipfile.ZipFile(path_download_dataset, 'r') as zip_file:\n",
        "\n",
        "                n_files = len(zip_file.namelist()) # number of files and directories inside the zip\n",
        "\n",
        "                with tqdm(total=n_files, desc='Unzipping files') as pbar: # It's a bar to track the unzip process, we pass the number of total files\n",
        "                    for file_name in zip_file.namelist():\n",
        "                        zip_file.extract(member=file_name, path=extract_directory) # Extract the file_name (iteration over all the files) in the path extract_directory\n",
        "                        pbar.update(1) # increment the progress bar of 1 unit for each extraction\n",
        "\n",
        "            print(f\"{Color.GREEN}Dataset {dataset_name} unzipped{Color.RESET}\")\n",
        "        else:\n",
        "            print(f\"{Color.GREEN}Dataset {dataset_name} already unzipped{Color.RESET} \")\n",
        "    except Exception as error:\n",
        "        print(f\"{Color.RED}Unzip went wrong!\\nerror:{Color.RESET}\")\n",
        "        print(error)\n",
        "\n",
        "    # Removing zip file\n",
        "    '''\n",
        "    In this part we remove the zip file if the flag\n",
        "    delete_zip_file is True (args of the function)\n",
        "    '''\n",
        "    try:\n",
        "        if delete_zip_file == True:\n",
        "            ! rm {path_download_dataset}\n",
        "            print(f\"{Color.GREEN}File {path_download_dataset} removed{Color.RESET}\")\n",
        "    except Exception as error:\n",
        "        print(f\"{Color.RED}Could not remove zip file, pass!\\nerror:{Color.RESET}\")\n",
        "        print(error)\n",
        "        pass"
      ]
    },
    {
      "cell_type": "markdown",
      "metadata": {
        "id": "eYJ7AV4CyyF5"
      },
      "source": [
        "Given the dataset, it merge and shuffle it."
      ]
    },
    {
      "cell_type": "code",
      "execution_count": 7,
      "metadata": {
        "id": "ASW5hS0Tvg-0"
      },
      "outputs": [],
      "source": [
        "def merge_dataset():\n",
        "\n",
        "    dataset_name = global_var['dataset_name'] # Name of the directory\n",
        "    extract_directory = global_var['extract_directory'] # Directory of destination where we put the shuffled dataset\n",
        "    current_path = os.path.join(extract_directory, dataset_name) # Create the path \"/content/chest_xray\"\n",
        "    origin_dataset = os.path.join(current_path,dataset_name) # Create the path \"/content/chest_xray/chest_xray\"\n",
        "\n",
        "    # Create a list of this type -> ['/content/chest_xray/train', '/content/chest_xray/test', '/content/chest_xray/val']:\n",
        "    sub_directory = [ os.path.join(current_path, s) for s in ['train', 'test', 'val']]\n",
        "    classes = ['PNEUMONIA', 'NORMAL']\n",
        "\n",
        "    try:\n",
        "        for sub_dir in sub_directory:\n",
        "\n",
        "            for c in classes:\n",
        "                sub_dir_c = os.path.join(sub_dir, c) # Create a path of the type '/content/chest_xray/train/PNEUMONIA' and '/content/chest_xray/train/NORMAL' and so on...\n",
        "                counter = 0 # This is used for the name of each image\n",
        "\n",
        "                for img_name in os.listdir(sub_dir_c):\n",
        "                    counter += 1\n",
        "                    # Example of img_name:  IM-0001-0001.jpeg\n",
        "\n",
        "                    # sub_dir.split(\"/\")[-1]: Take the part \"train\", \"test\" or \"val\"\n",
        "                    # c.lower(): Take the name of the class in uppercase and transform in lowercase\n",
        "                    # f\"_{counter:05d}\": put the number counter starting with a zero sequence until 5 numbers sequence\n",
        "                    # current_name.split(\".\")[-1]: put the jpeg word at the end\n",
        "                    # Example of new_name: train_pneumonia_00001.jpeg\n",
        "\n",
        "                    new_name = sub_dir.split(\"/\")[-1] + \"_\" + c.lower() + f\"_{counter:05d}\" + \".\" + img_name.split(\".\")[-1]\n",
        "\n",
        "                    final_path = sub_dir + \"/\" + new_name # Create a path of the type: /content/chest_xray/train/train_pneumonia_00001.jpeg\n",
        "\n",
        "                    # Move the file from '/content/chest_xray/train/PNEUMONIA/IM-0001-0001.jpeg' to '/content/chest_xray/train/train_pneumonia_00001.jpeg'\n",
        "                    # this result in changin the name of the file\n",
        "                    os.rename( os.path.join(sub_dir_c, img_name), final_path )\n",
        "\n",
        "                ! rmdir {sub_dir_c} # Remove the empty directory \"PNEUMONIA\" and \"NORMAL\" after all rename\n",
        "        !rm -rf {origin_dataset} # Remove a useless directory\n",
        "\n",
        "        print(f\"{Color.GREEN}Dataset reordered and labelled{Color.RESET}\")\n",
        "    except Exception as error:\n",
        "        print(f\"Dataset already merged\\n\")\n",
        "        pass"
      ]
    },
    {
      "cell_type": "markdown",
      "metadata": {
        "id": "kJNfF_ilr6Ey"
      },
      "source": [
        "This function is used to setup the GPU (if there is)"
      ]
    },
    {
      "cell_type": "code",
      "execution_count": 8,
      "metadata": {
        "id": "PH1ysKhGZ1P_"
      },
      "outputs": [],
      "source": [
        "def setup_device():\n",
        "\n",
        "    \"\"\"\n",
        "    Setup device to be used\n",
        "    \"\"\"\n",
        "\n",
        "    if torch.cuda.is_available():\n",
        "        device = torch.device(\"cuda:0\")\n",
        "        torch.cuda.set_device(device)\n",
        "    else:\n",
        "        device = torch.device(\"cpu\")\n",
        "\n",
        "    print(f\"Current device: {device}\")"
      ]
    },
    {
      "cell_type": "markdown",
      "metadata": {
        "id": "JzGCFXFCx2c1"
      },
      "source": [
        "## Plot Function - To eliminate?\n",
        "\n"
      ]
    },
    {
      "cell_type": "code",
      "execution_count": 9,
      "metadata": {
        "id": "e19fv36VfHHS"
      },
      "outputs": [],
      "source": [
        "def histogram_chart(classes, counts, colors):\n",
        "  plt.figure(figsize=(8, 8))\n",
        "  plt.bar(classes, counts, color = colors)\n",
        "  plt.title('Histogram Distribution')\n",
        "  plt.xlabel('Class')\n",
        "  plt.ylabel('Number of samples')\n",
        "  plt.show()"
      ]
    },
    {
      "cell_type": "code",
      "execution_count": 10,
      "metadata": {
        "id": "2P1U84rqjeWm"
      },
      "outputs": [],
      "source": [
        "def pie_chart(classes, counts, colors, description):\n",
        "  plt.figure(figsize=(8, 8))\n",
        "  plt.pie(counts, labels=classes, colors=colors, autopct='%1.1f%%', startangle=140)\n",
        "  plt.title(description)\n",
        "  plt.show()"
      ]
    },
    {
      "cell_type": "markdown",
      "metadata": {
        "id": "GaUnYpNGxwXj"
      },
      "source": [
        "## Counter Function\n",
        "This function is used in two options:\n",
        "\n",
        "1. **labels** = *True* : in this case the counter will count the number of \"normal\" or \"pneumonia\" images in the \"path_dir\"\n",
        "\n",
        "1. **labels** = *False* : in this case the counter will count simply the number of images in the \"path_dir\""
      ]
    },
    {
      "cell_type": "code",
      "execution_count": 11,
      "metadata": {
        "id": "s73kxQ4yIrTV"
      },
      "outputs": [],
      "source": [
        "def counter (path_dir, labels = True):\n",
        "\n",
        "  file_list = os.listdir(path_dir) # Create a list of all files in the dataset directory\n",
        "\n",
        "  if labels == True:\n",
        "\n",
        "    train_count_normal = 0 # Counter of images \"normal\"\n",
        "    train_count_pneumonia = 0 # Counter of images \"pneumonia\"\n",
        "\n",
        "  # Iterate through each file in the directory\n",
        "    for filename in file_list:\n",
        "        if 'normal' in filename:\n",
        "            train_count_normal += 1\n",
        "        elif 'pneumonia' in filename:\n",
        "            train_count_pneumonia += 1\n",
        "\n",
        "    return train_count_normal, train_count_pneumonia\n",
        "\n",
        "  else:\n",
        "\n",
        "    samples_num = len(file_list);\n",
        "    return samples_num"
      ]
    },
    {
      "cell_type": "markdown",
      "metadata": {
        "id": "vgiZw8VRqNqf"
      },
      "source": [
        "# Preprocessing operation on dataset"
      ]
    },
    {
      "cell_type": "markdown",
      "metadata": {
        "id": "kwqEzOQTzGvx"
      },
      "source": [
        "Given the path for an image, extract a [colormap](https://docs.opencv.org/3.4/d3/d50/group__imgproc__colormap.html) to highlight details\n",
        "\n",
        "Args:\n",
        "\n",
        "1. img_originale: images in tensor format\n"
      ]
    },
    {
      "cell_type": "code",
      "execution_count": 12,
      "metadata": {
        "id": "fRlQn3_lJgg4"
      },
      "outputs": [],
      "source": [
        "def get_heatmap(img_original):\n",
        "\n",
        "    # check if the image is on gpu, if yes bring to cpu for use numpy\n",
        "    if isinstance(img_original, str):\n",
        "        img_original = cv2.imread(img_original, cv2.IMREAD_GRAYSCALE)\n",
        "    else:\n",
        "        if img_original.is_cuda:\n",
        "            img_original = img_original.cpu()\n",
        "\n",
        "        img_original = img_original.detach().numpy()\n",
        "        img_original = np.transpose( img_original, (1,2,0) ) # C, H, W -> H, W, C format\n",
        "        img_original = cv2.cvtColor(img_original, cv2.COLOR_RGB2GRAY) # get gray-scale image\n",
        "\n",
        "    img_normalized = cv2.normalize(img_original, None, alpha=0, beta=255, norm_type=cv2.NORM_MINMAX, dtype=cv2.CV_8U)\n",
        "    img_colored = cv2.applyColorMap(img_normalized, cv2.COLORMAP_TWILIGHT)\n",
        "    img_rgb = cv2.cvtColor(img_colored, cv2.COLOR_BGR2RGB)\n",
        "\n",
        "    return img_rgb"
      ]
    },
    {
      "cell_type": "markdown",
      "metadata": {
        "id": "6eQMDf30quvq"
      },
      "source": [
        "This function will do a \"downsampling\" or \"upsampling\" technique given an image (tensor) in input, depending on the new requested size.\n",
        "\n",
        "Args:\n",
        "\n",
        "1. **mode** : the mode of [interpolation](https://pytorch.org/docs/stable/generated/torch.nn.functional.interpolate.html) like 'nearest', 'bilinear', 'bicubic' ...\n",
        "2. **size** : the new size, like (800x800)"
      ]
    },
    {
      "cell_type": "code",
      "execution_count": 13,
      "metadata": {
        "id": "sjRur4spqNYP"
      },
      "outputs": [],
      "source": [
        "def resize_and_save(mode, size):\n",
        "\n",
        "    original_dataset = global_var['dataset_name'] # Name of the original dataset\n",
        "    resized_dataset = global_var['dataset_name_resized'] # Name of the resized dataset\n",
        "\n",
        "    extract_directory = global_var['extract_directory'] # Directory of the GColab Runtime where we want to extract the dataset\n",
        "    original_path = os.path.join(extract_directory, original_dataset) # Create the path \"/content/chest_xray\"\n",
        "    resized_path = os.path.join(extract_directory, resized_dataset) # Create the path \"/content/chest_xray_resized\"\n",
        "\n",
        "    # Create a list of this type -> ['/content/chest_xray/train', '/content/chest_xray/test', '/content/chest_xray/val']:\n",
        "    sub_directory_original = [ os.path.join(original_path, s) for s in ['train', 'test', 'val']]\n",
        "\n",
        "    try:\n",
        "      for sub_dir in sub_directory_original:\n",
        "        category = os.path.basename(sub_dir) # Extract the part 'train', 'test' or 'val'\n",
        "\n",
        "        # Copy from source to destination\n",
        "        source_dir = sub_dir # Source Directory (Ex. '/content/chest_xray/train')\n",
        "        destination_dir = resized_path + '/' + category # Destination Directory ('Ex. /content/chest_xray_resized/train')\n",
        "\n",
        "        if not(os.path.exists(destination_dir)):\n",
        "          # Copy the entire directory\n",
        "          shutil.copytree(source_dir, destination_dir)\n",
        "\n",
        "          # Loop for the resizing and save\n",
        "          img_files = os.listdir(sub_dir)\n",
        "          for img in tqdm(img_files, desc=f\"Resizing {category} images\", unit=\"image\"):\n",
        "\n",
        "            # Take the name and extension of the image\n",
        "            name, extension = os.path.splitext(img)\n",
        "\n",
        "            # Read the image\n",
        "            img_path = sub_dir + '/' + name + extension\n",
        "            img = read_image(img_path) # Tensor Image (Ex. torch.Size([1, 928, 1288]))\n",
        "\n",
        "            # Add a batch dimensione of 1 needed for the nn.functional.interpolate method\n",
        "            img_4d = img.unsqueeze(0) # Tensor Image (Ex. torch.Size([1, 1, 928, 1288]))\n",
        "\n",
        "            # Interpolation method\n",
        "            resized_image = nn.functional.interpolate(img_4d, size=size, mode=mode) # Tensor Image (Ex. torch.Size([1, 1, 800, 800]))\n",
        "\n",
        "            # Remove the batch dimension\n",
        "            resized_image = resized_image.squeeze(0)  # Tensor Image (Ex. torch.Size([1, 800, 800]))\n",
        "\n",
        "            # Permute the dimensions\n",
        "            resized_image = resized_image.permute(1, 2, 0) # Tensor Image (Ex. torch.Size([800, 800, 1]))\n",
        "\n",
        "            # Transform in numpy structure\n",
        "            resized_image = resized_image.numpy() # Numpy Image (Ex. (800, 800, 1))\n",
        "\n",
        "            # Convert to PIL image using torchvision.transforms\n",
        "            to_pil = ToPILImage() # Transformer Numpy -> PIL Image\n",
        "            resized_image_pil = to_pil(resized_image) # PIL Image\n",
        "\n",
        "            # Save the resulting image\n",
        "            path_to_save = destination_dir + '/' + name + extension # Path of the type '/content/chest_xray_resized/train/img_name.jpeg'\n",
        "            resized_image_pil.save(path_to_save) # Function to save the image\n",
        "        else:\n",
        "          print(f\"{Color.GREEN}Data for {category} already resized{Color.RESET} \")\n",
        "\n",
        "    except Exception as error:\n",
        "      print(f\"Problem in resizing\\n\")\n",
        "      print(error)\n",
        "      pass"
      ]
    },
    {
      "cell_type": "code",
      "execution_count": 14,
      "metadata": {
        "id": "REAcgrBor5cX"
      },
      "outputs": [],
      "source": [
        "def data_augmentation(transform):\n",
        "\n",
        "    tr = transform # Transform that we use for augment the data of the training set\n",
        "    original_dataset = global_var['dataset_name_resized'] # Name of the original dataset\n",
        "    new_dataset = global_var['dataset_name_resized_augmented'] # Name of the resized dataset\n",
        "\n",
        "    extract_directory = global_var['extract_directory'] # Directory of the GColab Runtime where we want to extract the dataset\n",
        "    original_path = os.path.join(extract_directory, original_dataset) # Create the path \"/content/chest_xray_resized\"\n",
        "    new_path = os.path.join(extract_directory, new_dataset) # Create the path \"/content/chest_xray_resized_augmented\"\n",
        "\n",
        "    # Create a list of this type -> ['/content/chest_xray_resized/train', '/content/chest_xray_resized/test', '/content/chest_xray_resized/val']:\n",
        "    sub_directory_original = [ os.path.join(original_path, s) for s in ['train', 'test', 'val']]\n",
        "    # Create a list of this type -> ['/content/chest_xray_resized_augmented/train', '/content/chest_xray_resized_augmented/test', '/content/chest_xray_resized_augmented/val']:\n",
        "    sub_directory_augmented = [ os.path.join(new_path, s) for s in ['train', 'test', 'val']]\n",
        "\n",
        "    try:\n",
        "      for sub_dir in sub_directory_original:\n",
        "        category = os.path.basename(sub_dir) # Extract the part 'train', 'test' or 'val'\n",
        "\n",
        "        # Copy from source to destination\n",
        "        source_dir = sub_dir # Source Directory ('Ex. /content/chest_xray_resized/train')\n",
        "        destination_dir = new_path + '/' + category # Destination Directory ('Ex. /content/chest_xray_resized_augmented/train')\n",
        "\n",
        "        if not(os.path.exists(destination_dir)):\n",
        "          # Copy the entire directory\n",
        "          shutil.copytree(source_dir, destination_dir)\n",
        "        else:\n",
        "          print(f\"{Color.GREEN}Data for {category} already copied{Color.RESET} \")\n",
        "          return\n",
        "\n",
        "    except Exception as error:\n",
        "      print(f\"Problem in copying\\n\")\n",
        "      print(error)\n",
        "      pass\n",
        "\n",
        "    try:\n",
        "      dir_train = sub_directory_augmented[0]                   # '/content/chest_xray_resized_augmented/train'\n",
        "      img_files_train = os.listdir(dir_train)                  # List of all training images\n",
        "      n_normal, n_pneumonia = counter(dir_train, labels=True)  # Count the number of normal and pneumonia images\n",
        "      difference = n_pneumonia - n_normal                      # Desired value of augmented images\n",
        "      sub_path = os.path.join(dir_train, '/augmented')         # Subdirectory where we save the augmented images\n",
        "      !mkdir {dir_train + '/augmented/'}                       # Create the subdirectory\n",
        "      actual = len(os.listdir(dir_train + '/augmented/'))      # Actual value of augmented images\n",
        "\n",
        "      n = 0                                                    # Counter used to name the augmented images\n",
        "\n",
        "      with tqdm(total=difference, desc='Augmenting data') as pbar:\n",
        "        while  actual < difference:\n",
        "          img = random.choice(img_files_train)           # Pick a random image file from the list\n",
        "          if ('normal' in img):\n",
        "            n += 1\n",
        "            # Take the name and extension of the image\n",
        "            name, extension = os.path.splitext(img)\n",
        "\n",
        "            # Read the image as a Tensor\n",
        "            img = read_image(dir_train + '/' + img)\n",
        "\n",
        "            # Transform the image\n",
        "            new_image = transform(img); # Transformed Tensor Image\n",
        "\n",
        "            # Permute the dimensions\n",
        "            new_image = new_image.permute(1, 2, 0) # Tensor Image (Ex. torch.Size([800, 800, 1]))\n",
        "\n",
        "            # Transform in numpy structure\n",
        "            new_image = new_image.numpy() # Numpy Image (Ex. (800, 800, 1))\n",
        "\n",
        "            # Convert to PIL image using torchvision.transforms\n",
        "            to_pil = ToPILImage() # Transformer Numpy -> PIL Image\n",
        "            new_image_pil = to_pil(new_image) # PIL Image\n",
        "\n",
        "            # Save the resulting image:  Path of the type /content/chest_xray_resized_augmented/train/augmented/train_normal_00001_augmented.jpeg\n",
        "            path_to_save = dir_train + '/augmented/' + name.split('_')[0] + '_' + name.split('_')[1] + f\"_{n:05d}\" + '_augmented' + extension\n",
        "            new_image_pil.save(path_to_save) # Function to save the image\n",
        "            actual += 1     # Update of Actual value of agumented images\n",
        "            pbar.update(1)\n",
        "\n",
        "      for img_name in os.listdir(dir_train + '/augmented/'):\n",
        "        final_path = dir_train + '/' # Create a path of the type: /content/chest_xray_resized_augmented/train/\n",
        "        os.rename(dir_train + '/augmented/' + img_name, final_path + img_name)\n",
        "\n",
        "      !rmdir {dir_train + '/augmented/'} # Remove the empty directory \"PNEUMONIA\" and \"NORMAL\" after all rename\n",
        "\n",
        "    except Exception as error:\n",
        "        print(f\"Problem in augmenting\\n\")\n",
        "        print(error)\n",
        "        pass"
      ]
    },
    {
      "cell_type": "code",
      "source": [
        "def preprocess_image(image_global_path, mode):\n",
        "\n",
        "    # based of the selected mode, it does a preprocess on image\n",
        "    # returun None is something went wrong\n",
        "\n",
        "    if mode == 'heatmap':\n",
        "        preprocessed_img = get_heatmap( image_global_path )\n",
        "    elif mode == 'gaussian':\n",
        "        preprocessed_img == None\n",
        "    else:\n",
        "        print(f\"{Color.RED}Preprocessing {mode} is not available{Color.RESET}\")\n",
        "        ! rm -rf {new_dataset_path}\n",
        "\n",
        "        preprocessed_img = None\n",
        "\n",
        "    return preprocessed_img"
      ],
      "metadata": {
        "id": "uyLjQfGMbkz7"
      },
      "execution_count": 15,
      "outputs": []
    },
    {
      "cell_type": "code",
      "source": [
        "def create_preprocessed_dataset( dataset_path, new_dataset_path, mode ):\n",
        "\n",
        "    categories = ['val', 'test', 'train']\n",
        "    mode = mode.lower()\n",
        "\n",
        "    if os.path.exists(new_dataset_path):\n",
        "        print(f\"{Color.GREEN}Dataset {new_dataset_path} images already exists{Color.RESET}\")\n",
        "        return\n",
        "    else:\n",
        "        ! cp -r {dataset_path} {new_dataset_path}   # coping augmented dataset \"/content/chest_xray_{mode}\"\n",
        "\n",
        "    for c in categories:  # iterate on train, test, val\n",
        "\n",
        "        n_files = len( os.listdir( os.path.join(new_dataset_path, c ) ) )   # it is \"/content/chest_xray_{mode}/train,test,val\"\n",
        "\n",
        "        with tqdm(total=n_files, desc='Processing ' + c) as pbar:\n",
        "            for img_path in os.listdir( os.path.join(dataset_path, c) ):   # iterate on train, test, val of heatmap dataset\n",
        "\n",
        "                full_img_path = new_dataset_path + \"/\" + c + \"/\" + img_path # global path to image\n",
        "\n",
        "                # choose the mode\n",
        "                '''\n",
        "                if mode == 'heatmap':\n",
        "                    preprocessed_img = get_heatmap( full_img_path )\n",
        "                elif mode == 'gaussian':\n",
        "                    preprocessed_img == None\n",
        "                else:\n",
        "                    print(f\"{Color.RED}Preprocessing {mode} is not available{Color.RESET}\")\n",
        "                    ! rm -rf {new_dataset_path}\n",
        "                    return\n",
        "                '''\n",
        "\n",
        "                preprocessed_img = preprocess_image(full_img_path, mode)    # preprocess the image according the the selected mode\n",
        "\n",
        "                if \"augmented\" in img_path:\n",
        "                    new_name = img_path.replace(\"augmented\", mode)   # renaming the images\n",
        "                else:\n",
        "                    new_name = img_path.replace(\".\", f\"_{mode}.\")\n",
        "\n",
        "                #print(new_name)\n",
        "                new_full_path = full_img_path.replace(img_path, new_name)  # /content/chest_xray_heatmap/train/test_normal_00001_heatmap.jpeg\n",
        "\n",
        "                cv2.imwrite(full_img_path, preprocessed_img) # overwrite the image\n",
        "                os.rename(full_img_path, new_full_path) # renaming the image\n",
        "\n",
        "                pbar.update(1)"
      ],
      "metadata": {
        "id": "KCT0M4ovvdhG"
      },
      "execution_count": 16,
      "outputs": []
    },
    {
      "cell_type": "markdown",
      "metadata": {
        "id": "7XZvgZPRvK13"
      },
      "source": [
        "# Dataset and Network classes"
      ]
    },
    {
      "cell_type": "markdown",
      "metadata": {
        "id": "j4uFWWdnvMeh"
      },
      "source": [
        "## ChestRayDataset"
      ]
    },
    {
      "cell_type": "code",
      "execution_count": 17,
      "metadata": {
        "id": "05zFupZ3yC5K"
      },
      "outputs": [],
      "source": [
        "class ChestRayDataset(Dataset):\n",
        "\n",
        "    def __init__(self,file_path, transform):\n",
        "        self.file_path = file_path\n",
        "        self.transform = transform\n",
        "\n",
        "    def __len__(self):\n",
        "        return len(os.listdir(self.file_path))\n",
        "\n",
        "    def __getitem__(self, index):\n",
        "        sample_path = self.file_path + \"/\" + os.listdir(self.file_path)[index]\n",
        "        sample = cv2.imread(sample_path)\n",
        "        sample = cv2.cvtColor(sample, cv2.COLOR_BGR2RGB)\n",
        "\n",
        "        # Output of the class\n",
        "        sample_tensor = self.transform(sample)\n",
        "        label = sample_path.split(\"/\")[-1].split(\"_\")[1]\n",
        "\n",
        "        return sample_tensor,label"
      ]
    },
    {
      "cell_type": "markdown",
      "metadata": {
        "id": "2yOQD6ATspbh"
      },
      "source": [
        "## Architecture"
      ]
    },
    {
      "cell_type": "markdown",
      "metadata": {
        "id": "sGVBhUimtj90"
      },
      "source": [
        "Reference: [Pytorch Lightning]( https://lightning.ai/docs/pytorch/stable/common/lightning_module.html),\n",
        "\n",
        "Metrics used are\n",
        "\n",
        "*   [BinaryAccuracy](https://lightning.ai/docs/torchmetrics/stable/classification/accuracy.html): to evaluate how much correct predictions the network does\n",
        "*   [BinaryRecall](https://lightning.ai/docs/torchmetrics/stable/classification/recall.html): in medical field it is important to avoid false negative so avoid to classify a radiography with diseased lungs as healty\n",
        "*   [BinaryF1Score](https://lightning.ai/docs/torchmetrics/stable/classification/f1_score.html): used to computed average of precision and recall, used to evaluate overall performance\n",
        "\n",
        "\n",
        "\n",
        "\n",
        "\n"
      ]
    },
    {
      "cell_type": "code",
      "execution_count": 18,
      "metadata": {
        "id": "DMnIyzqTsy44"
      },
      "outputs": [],
      "source": [
        "class JAM_network(pl.LightningModule):\n",
        "    def __init__(self, input_dim):\n",
        "        super(JAM_network,self).__init__()\n",
        "\n",
        "        self.sigm = nn.Sigmoid()\n",
        "        # insert layer, etc ...\n",
        "\n",
        "    def forward(network_input):\n",
        "        return network_input"
      ]
    },
    {
      "cell_type": "code",
      "execution_count": 19,
      "metadata": {
        "id": "idw78DEotObF"
      },
      "outputs": [],
      "source": [
        "class JAM(pl.LightningModule):\n",
        "    def __init__(self, vocab_size):\n",
        "        super(JAM).__init__()\n",
        "\n",
        "        self.model = JAM_network(0)\n",
        "\n",
        "        self.loss_fnc = nn.CrossEntropyLoss()\n",
        "\n",
        "        self.accuracy = BinaryAccuracy()\n",
        "        self.recall = BinaryRecall()\n",
        "        self.f1score = BinaryF1Score()\n",
        "\n",
        "\n",
        "    def forward(self, inputs, target):\n",
        "        return self.model(inputs, target)\n",
        "\n",
        "    def training_step(self, batch, batch_idx):\n",
        "\n",
        "        inputs, targets = batch\n",
        "        predictions = self.model(inputs)\n",
        "\n",
        "        loss = self.loss_fn(predictions, targets)\n",
        "\n",
        "        # Calculating metrics\n",
        "        accuracy_value = self.accuracy(predictions, targets)\n",
        "        recall_value = self.recall(predictions, targets)\n",
        "        f1score_value = self.f1scorre(predictions, targets)\n",
        "\n",
        "        # link per visualizzare le metriche: https://lightning.ai/docs/pytorch/stable/visualize/logging_basic.html\n",
        "        # plottiamo queste 3 + la loss\n",
        "\n",
        "        return loss\n",
        "\n",
        "    def validation_step(self, batch):\n",
        "        loss = 0\n",
        "        return loss\n",
        "\n",
        "    def test_step(self, batch):\n",
        "        loss = 0\n",
        "        return loss\n",
        "\n",
        "    def configure_optimizers(self):\n",
        "        return torch.optim.SGD(self.model.parameters(), lr=0.1)"
      ]
    },
    {
      "cell_type": "markdown",
      "metadata": {
        "id": "_HmvdEe24KbO"
      },
      "source": [
        "# MAIN"
      ]
    },
    {
      "cell_type": "markdown",
      "metadata": {
        "id": "owMu7Tiqzbnc"
      },
      "source": [
        "## Download and merge of the dataset"
      ]
    },
    {
      "cell_type": "code",
      "source": [
        "setup_device()"
      ],
      "metadata": {
        "colab": {
          "base_uri": "https://localhost:8080/"
        },
        "id": "oQPIRFyWvgEh",
        "outputId": "19475d9e-3bfc-4b17-c316-90560b9aba0c"
      },
      "execution_count": 20,
      "outputs": [
        {
          "output_type": "stream",
          "name": "stdout",
          "text": [
            "Current device: cpu\n"
          ]
        }
      ]
    },
    {
      "cell_type": "code",
      "execution_count": 21,
      "metadata": {
        "colab": {
          "base_uri": "https://localhost:8080/",
          "height": 205,
          "referenced_widgets": [
            "c9d6feaba5d64d5cbc26cc517435ccad",
            "fd6ed9a8f7c746a6b9634114f56132bb",
            "9463a9aa742b483cb2ec18db53b22728",
            "51990cd159974753aca08f58c2700ecf",
            "a5221e39aeae469fb377cb864242466c",
            "90e0117a0b9b49cf8a24ebbdde39274f",
            "1404a2aea7274c57b6ccb1ac45b46026",
            "10d26cc7deed44e2a5b46241665f9dfa",
            "8f21ef1eefa346fc84ec021c60eabf1c",
            "a4a9eb02f3674bdf911e23daba59d702",
            "bd6058ae3a184d06a26a6e30fd09ba34"
          ]
        },
        "id": "hLaY4F33bKCc",
        "outputId": "8f3e41be-d120-410d-c05b-9bfc582a80e5"
      },
      "outputs": [
        {
          "output_type": "stream",
          "name": "stderr",
          "text": [
            "Downloading...\n",
            "From (original): https://drive.google.com/uc?export=download&id=10un_W7teXQy9LOB1uqd0e6VJ46UFNRza\n",
            "From (redirected): https://drive.google.com/uc?export=download&id=10un_W7teXQy9LOB1uqd0e6VJ46UFNRza&confirm=t&uuid=c1a2b352-67e7-410b-a58f-9a7e9ba26940\n",
            "To: /content/dataset.zip\n",
            "100%|██████████| 2.46G/2.46G [00:46<00:00, 53.3MB/s]\n"
          ]
        },
        {
          "output_type": "stream",
          "name": "stdout",
          "text": [
            "\u001b[92m\n",
            "Zip file downloaded\u001b[0m\n"
          ]
        },
        {
          "output_type": "display_data",
          "data": {
            "text/plain": [
              "Unzipping files:   0%|          | 0/17591 [00:00<?, ?it/s]"
            ],
            "application/vnd.jupyter.widget-view+json": {
              "version_major": 2,
              "version_minor": 0,
              "model_id": "c9d6feaba5d64d5cbc26cc517435ccad"
            }
          },
          "metadata": {}
        },
        {
          "output_type": "stream",
          "name": "stdout",
          "text": [
            "\u001b[92mDataset chest_xray unzipped\u001b[0m\n",
            "\u001b[92mDataset reordered and labelled\u001b[0m\n"
          ]
        }
      ],
      "source": [
        "download_dataset(\n",
        "     link_dataset=global_var['link_dataset'],\n",
        "     delete_zip_file=False\n",
        " )\n",
        "\n",
        "merge_dataset()"
      ]
    },
    {
      "cell_type": "code",
      "source": [
        "size = global_var[\"resizing_dim\"] # Choose the size\n",
        "\n",
        "resize_and_save(\n",
        "    mode='bilinear',    # Choose the mode of interpolation ('nearest', 'bilinear', 'bicubic', ...)\n",
        "    size=(size, size)\n",
        ")"
      ],
      "metadata": {
        "colab": {
          "base_uri": "https://localhost:8080/",
          "height": 113,
          "referenced_widgets": [
            "58d43ea6212141f0b0963917b9577e79",
            "20f06bf4a8694d909d1ba749ca1e3f7f",
            "cb6ac7cb39684c9ba4b57640049c3b16",
            "78cd49d501814dd3904fdcc34043c001",
            "19b8f340587e46ffbce069c4e86316c4",
            "2f170b15af4e46cb8870a56cb4bec95a",
            "1b366138038d48eb8f96e3423851488d",
            "349bb236ac044a75920f3f394f683560",
            "a11a6c4a53504d9aba66022e9be289dd",
            "305d33e2f6a6451abd86e3dedcba1c4f",
            "e26394395d7646aa8db4c3e3c3b1a27f",
            "1f3e967a7b894e0fbbaee3cf33894da9",
            "b4134725795a4d1b8ef57488e92d4ce2",
            "91750a3f97344d2188706302c83d6863",
            "19e9f58394fc4cdd9792efff50214fa0",
            "7e645dfb1d434c459dca6ec75f7840f8",
            "0b8c284e990a433a9fe036ddf6dbdf73",
            "188fed695f2c4f5cb5499c2ddfee9885",
            "a29f252af5de4410895a689cf0237c66",
            "c914e469afbe42f0a012fd425a179e9a",
            "eef3ce5c34a74102bdcb15d2cb3ae4f8",
            "5e1bdffccff74f8480e669aed16fd66a",
            "ee3873abe3f84104a23bc8c456e3953d",
            "889ffe7316cc4e0093348e70e73ec3f8",
            "716a0636e67445e0bedb35e74ee7678f",
            "8fe1ae9df8be486296429042492be9ed",
            "3c15303b034246d3bbfbbc8afc1e7205",
            "e1ec59a24e964a09a5d239ce1d996403",
            "22ef67aff80b4fa5acb31148190684be",
            "d6993252534042779c1d889ec49a7774",
            "2c29efffd964442389a50c93e2c7891f",
            "2119e54adba341e19e8ac5482a4fbb9f",
            "075e091d94a24c5d88bb83b9c2248a7c"
          ]
        },
        "id": "OVeAMibJverg",
        "outputId": "0c99af89-a6e3-4c9c-fc31-bacc10e5a7d2"
      },
      "execution_count": 22,
      "outputs": [
        {
          "output_type": "display_data",
          "data": {
            "text/plain": [
              "Resizing train images:   0%|          | 0/5216 [00:00<?, ?image/s]"
            ],
            "application/vnd.jupyter.widget-view+json": {
              "version_major": 2,
              "version_minor": 0,
              "model_id": "58d43ea6212141f0b0963917b9577e79"
            }
          },
          "metadata": {}
        },
        {
          "output_type": "display_data",
          "data": {
            "text/plain": [
              "Resizing test images:   0%|          | 0/624 [00:00<?, ?image/s]"
            ],
            "application/vnd.jupyter.widget-view+json": {
              "version_major": 2,
              "version_minor": 0,
              "model_id": "1f3e967a7b894e0fbbaee3cf33894da9"
            }
          },
          "metadata": {}
        },
        {
          "output_type": "display_data",
          "data": {
            "text/plain": [
              "Resizing val images:   0%|          | 0/16 [00:00<?, ?image/s]"
            ],
            "application/vnd.jupyter.widget-view+json": {
              "version_major": 2,
              "version_minor": 0,
              "model_id": "ee3873abe3f84104a23bc8c456e3953d"
            }
          },
          "metadata": {}
        }
      ]
    },
    {
      "cell_type": "code",
      "source": [
        "tr_augmentation = transforms.Compose([\n",
        "     transforms.RandomHorizontalFlip(0.8),\n",
        "     transforms.RandomVerticalFlip(0.2),\n",
        "     transforms.ColorJitter(brightness=0.4),\n",
        "     transforms.RandomRotation(degrees=(90,90)),\n",
        "])\n",
        "\n",
        "data_augmentation(tr_augmentation)"
      ],
      "metadata": {
        "colab": {
          "base_uri": "https://localhost:8080/",
          "height": 49,
          "referenced_widgets": [
            "26bc30e444c5444d865350aac1e8d84c",
            "f0816d70ba2f44cfb971b741ed016031",
            "97f3a123eafa408a9190a482ac5f5f5e",
            "7b6fa9cabf364b2ea2e39fba662c8f2a",
            "e18ff64961a84af5b301bc1d93e680f5",
            "fa800677bf27461f9269093a04f505bb",
            "b93f89698b7d4dafb0a5fdec7fbbf8aa",
            "c475cff3a9104acd8cc76ad31d2dfd61",
            "ce18785bba7c4608ab87813a3b4a1c69",
            "c312df9def664e1e9db0679050e9fe1e",
            "8c74aa1197fd4d04a0d0861e3f2810ac"
          ]
        },
        "id": "Lg6MUQReBBLp",
        "outputId": "f4faa604-7add-47cc-a041-26eca6b540b9"
      },
      "execution_count": 23,
      "outputs": [
        {
          "output_type": "display_data",
          "data": {
            "text/plain": [
              "Augmenting data:   0%|          | 0/2534 [00:00<?, ?it/s]"
            ],
            "application/vnd.jupyter.widget-view+json": {
              "version_major": 2,
              "version_minor": 0,
              "model_id": "26bc30e444c5444d865350aac1e8d84c"
            }
          },
          "metadata": {}
        }
      ]
    },
    {
      "cell_type": "code",
      "source": [
        "dataset_directory = global_var[\"extract_directory\"] + \"/\" + global_var[\"dataset_name_resized_augmented\"]\n",
        "heatmap_directory = global_var[\"extract_directory\"] + \"/\" + global_var[\"dataset_name_heatmap\"]\n",
        "\n",
        "create_preprocessed_dataset(\n",
        "    dataset_path = dataset_directory,\n",
        "    new_dataset_path = heatmap_directory,\n",
        "    mode = 'heatmap'\n",
        ")"
      ],
      "metadata": {
        "colab": {
          "base_uri": "https://localhost:8080/",
          "height": 113,
          "referenced_widgets": [
            "c4c2d945a7c14c8e8377020c99676bda",
            "f2d2ef7ed1de4c40ac7876eefa750bce",
            "24b3f017ed774643b757fb108502402e",
            "3cfffeed129d4746b34277ed4f0d7471",
            "fdf41735d5a64da784314caae648a9fe",
            "204aea5b0bed4b3283736ea3f6afea21",
            "79ed730cfcd64d5190d1499e947ab419",
            "78de8ed2dfae49d4969e005928facf7e",
            "9fab6ff1ad6e40409f8d1acabc252cdd",
            "1c1dc2aa5a204d98a2f7798f5c366ad6",
            "74ca87bee5534764869db9d28e8f9a52",
            "1e4b0dc2b6d84584bd8011707498e04c",
            "642c8b2aa1054c699e890fad1b986ab2",
            "66ca386e2c864cfab1a3224029a921e8",
            "90aeae7ac95842e99f4f816a49939556",
            "373a3c0675a1423fb0216814412f2bb2",
            "ad36587834aa474793d188a372165ab6",
            "7de1377638cf45569989d695ac620dff",
            "14e73128a6474c7eb3f866c39ed94fc7",
            "c94e353e488c4068a5ba0f450eda557a",
            "85c7d9edb85f49ee9da38582737d0548",
            "fc6f0dd239d4447288bb1851c9570275",
            "3b2093891ce84408bc00e88630dd115d",
            "9f9e1fc7217d452b83280547d754994c",
            "fcd44885f9ef4c7bb68d892960bf6836",
            "3f8868ef1b764ac5bad3cf14e5227c9f",
            "f3678e17f6104663a54a989e6ffbf22e",
            "630e0be6ade64faa95096db4dfe4651d",
            "eb7dc3077a7042d6be0b865fb37e41bd",
            "16c6555d29394906beef2daf308983b4",
            "cb7fadbe9a2a437993e074d083923e3b",
            "aaa947b3745847e382c19e6ce7f955b4",
            "317c1092ea6748439e1c76971c95e672"
          ]
        },
        "id": "8tUV8CLcv9jR",
        "outputId": "7e7c1d77-f54a-4439-f184-7dd70c1df147"
      },
      "execution_count": 24,
      "outputs": [
        {
          "output_type": "display_data",
          "data": {
            "text/plain": [
              "Processing val:   0%|          | 0/16 [00:00<?, ?it/s]"
            ],
            "application/vnd.jupyter.widget-view+json": {
              "version_major": 2,
              "version_minor": 0,
              "model_id": "c4c2d945a7c14c8e8377020c99676bda"
            }
          },
          "metadata": {}
        },
        {
          "output_type": "display_data",
          "data": {
            "text/plain": [
              "Processing test:   0%|          | 0/624 [00:00<?, ?it/s]"
            ],
            "application/vnd.jupyter.widget-view+json": {
              "version_major": 2,
              "version_minor": 0,
              "model_id": "1e4b0dc2b6d84584bd8011707498e04c"
            }
          },
          "metadata": {}
        },
        {
          "output_type": "display_data",
          "data": {
            "text/plain": [
              "Processing train:   0%|          | 0/7750 [00:00<?, ?it/s]"
            ],
            "application/vnd.jupyter.widget-view+json": {
              "version_major": 2,
              "version_minor": 0,
              "model_id": "3b2093891ce84408bc00e88630dd115d"
            }
          },
          "metadata": {}
        }
      ]
    },
    {
      "cell_type": "markdown",
      "metadata": {
        "id": "_sFf8oHnnS8s"
      },
      "source": [
        "## Dataset exploration, augmentation and visualization\n",
        "\n",
        "In this part we plot an:\n",
        "\n",
        "1. *Histogram Distribution* : to see if the dataset is balanced or unbalanced\n",
        "\n",
        "2. *Pie Chart* : to visualize the sizes of training, test and validation sets"
      ]
    },
    {
      "cell_type": "code",
      "execution_count": 25,
      "metadata": {
        "id": "YVgIgejynSRf",
        "colab": {
          "base_uri": "https://localhost:8080/",
          "height": 476
        },
        "cellView": "form",
        "outputId": "be5e3700-9d58-4051-84c4-fb42b6a38374"
      },
      "outputs": [
        {
          "output_type": "display_data",
          "data": {
            "text/plain": [
              "<Figure size 800x400 with 2 Axes>"
            ],
            "image/png": "[encoded data removed]"
          },
          "metadata": {}
        },
        {
          "output_type": "stream",
          "name": "stdout",
          "text": [
            "\n",
            "The number of training images: 5216\n",
            "The number of test images: 624\n",
            "The number of validation images: 16\n"
          ]
        }
      ],
      "source": [
        "# @title Initial statistic of dataset\n",
        "# Definition of the paths for training, test and validation set\n",
        "path_training_set = \"/content/chest_xray/train\"\n",
        "path_test_set = \"/content/chest_xray/test\"\n",
        "path_val_set = \"/content/chest_xray/val\"\n",
        "\n",
        "# Counting the Normal and Pneumonia images in the training set\n",
        "train_norm, train_pneu = counter(path_training_set, labels = True); # Count the number of normal images and pneumonia images\n",
        "\n",
        "train_num = counter(path_training_set, labels = False);\n",
        "test_num = counter(path_test_set, labels = False);\n",
        "val_num = counter(path_val_set, labels = False);\n",
        "\n",
        "# Histogram Data\n",
        "classes_hist = ['Normal', 'Pneumonia']\n",
        "counts_hist = [train_norm, train_pneu]\n",
        "colors_hist = ['aquamarine', 'blue']\n",
        "\n",
        "# Pie Chart Data\n",
        "classes_pie = ['Train', 'Test', 'Validation']\n",
        "counts_pie = [train_num, test_num, val_num]\n",
        "colors_pie = ['gold', 'lightcoral', 'lightskyblue']\n",
        "\n",
        "# Create a figure with specific dimensions and subplots\n",
        "fig, ax = plt.subplots(1, 2, figsize=(8, 4))  # Adjust figsize as needed\n",
        "\n",
        "# Plotting the histogram\n",
        "ax[0].bar(classes_hist, counts_hist, color=colors_hist)\n",
        "ax[0].set_title('Histogram distribution')\n",
        "ax[0].set_xlabel('Class')\n",
        "ax[0].set_ylabel('Count')\n",
        "\n",
        "# Plotting the pie chart\n",
        "ax[1].pie(counts_pie, labels=classes_pie, colors=colors_pie, autopct='%1.1f%%', startangle=90)\n",
        "ax[1].set_title('Pie Chart of training, test and validation sizes')\n",
        "\n",
        "plt.tight_layout()  # This adjusts subplot params so that the subplots fit into the figure area.\n",
        "plt.show()\n",
        "\n",
        "print(\"\\nThe number of training images:\", train_num)\n",
        "print(\"The number of test images:\", test_num)\n",
        "print(\"The number of validation images:\", val_num)\n",
        "\n"
      ]
    },
    {
      "cell_type": "code",
      "execution_count": 26,
      "metadata": {
        "id": "mc37Ky-RrrVB",
        "colab": {
          "base_uri": "https://localhost:8080/",
          "height": 257
        },
        "cellView": "form",
        "outputId": "ac878dab-7537-43e9-f4f7-7a97fc251fd7"
      },
      "outputs": [
        {
          "output_type": "display_data",
          "data": {
            "text/plain": [
              "<Figure size 600x300 with 2 Axes>"
            ],
            "image/png": "[encoded data removed]"
          },
          "metadata": {}
        }
      ],
      "source": [
        "# @title Visualization of two random images\n",
        "# Define a transform element to resize the images as square images and transform in Tensor\n",
        "tr_1 = transforms.ToTensor()                # Convert the image to a tensor\n",
        "\n",
        "# Definition of the paths for training, test and validation set\n",
        "path_training_set = \"/content/chest_xray/train\"\n",
        "path_test_set = \"/content/chest_xray/test\"\n",
        "path_val_set = \"/content/chest_xray/val\"\n",
        "\n",
        "# Instance of classes for the Dataset\n",
        "train_dataset = ChestRayDataset(path_training_set, tr_1) # Create an instance of training class\n",
        "test_dataset = ChestRayDataset(path_test_set, tr_1) # Create an instance of test class\n",
        "val_dataset = ChestRayDataset(path_val_set, tr_1) # Create an instance of validation class\n",
        "\n",
        "# Generate two random numbers to select two random images from training set\n",
        "random_num_1 = np.random.randint(1, len(train_dataset))\n",
        "random_num_2 = np.random.randint(1, len(train_dataset))\n",
        "\n",
        "# Take an image + label randomly\n",
        "img_1, label_1 = train_dataset[random_num_1]\n",
        "img_2, label_2 = train_dataset[random_num_2]\n",
        "\n",
        "# Display the image using matplotlib library\n",
        "plt.figure( figsize=(6,3))\n",
        "plt.subplot(1,2,1)\n",
        "plt.imshow(img_1.permute(1, 2, 0))\n",
        "plt.axis('on')\n",
        "plt.text(0, 0, label_1, fontsize=12, color='black', backgroundcolor='white')\n",
        "\n",
        "plt.subplot(1,2,2)\n",
        "plt.imshow(img_2.permute(1, 2, 0))\n",
        "plt.axis('on')\n",
        "plt.text(0, 0, label_2, fontsize=12, color='black', backgroundcolor='white')\n",
        "\n",
        "plt.show()\n",
        "\n",
        "print (\"The shape of the first image is: \", img_1.permute(1, 2, 0).shape)\n",
        "print (\"The shape of the second image is: \", img_2.permute(1, 2, 0).shape)"
      ]
    },
    {
      "cell_type": "code",
      "execution_count": 27,
      "metadata": {
        "colab": {
          "base_uri": "https://localhost:8080/",
          "height": 354
        },
        "id": "yrfs0O-G5puA",
        "cellView": "form",
        "outputId": "b31edea5-5d51-47ac-cbd5-78752a868357"
      },
      "outputs": [
        {
          "output_type": "stream",
          "name": "stdout",
          "text": [
            "The shape of the first image is:  torch.Size([1024, 1184, 3])\n",
            "The shape of the second image is:  torch.Size([999, 1376, 3])\n"
          ]
        },
        {
          "output_type": "display_data",
          "data": {
            "text/plain": [
              "<Figure size 600x300 with 2 Axes>"
            ],
            "image/png": "[encoded data removed]"
          },
          "metadata": {}
        },
        {
          "output_type": "stream",
          "name": "stdout",
          "text": [
            "The shape of the first image is:  torch.Size([1000, 1000, 3])\n",
            "The shape of the second image is:  torch.Size([1000, 1000, 3])\n"
          ]
        }
      ],
      "source": [
        "# @title Squarring\n",
        "\n",
        "# Define a transform element to resize the images as square images and transform in Tensor\n",
        "tr_1 = transforms.ToTensor()                 # Convert the image to a tensor\n",
        "\n",
        "# Definition of the paths for training, test and validation set\n",
        "path_training_set_resized = \"/content/chest_xray_resized/train\"\n",
        "path_test_set_resized = \"/content/chest_xray_resized/test\"\n",
        "path_val_set_resized = \"/content/chest_xra_resized/val\"\n",
        "\n",
        "# Instance of classes for the Dataset\n",
        "train_dataset_resized = ChestRayDataset(path_training_set_resized, tr_1) # Create an instance of training class\n",
        "test_dataset_resized = ChestRayDataset(path_test_set_resized, tr_1) # Create an instance of test class\n",
        "val_dataset_resized = ChestRayDataset(path_val_set_resized, tr_1) # Create an instance of validation class\n",
        "\n",
        "# Take an image + label randomly\n",
        "img_1, label_1 = train_dataset_resized[random_num_1]\n",
        "img_2, label_2 = train_dataset_resized[random_num_2]\n",
        "\n",
        "# Display the image using matplotlib library\n",
        "plt.figure( figsize=(6,3))\n",
        "plt.subplot(1,2,1)\n",
        "plt.imshow(img_1.permute(1, 2, 0))\n",
        "plt.axis('on')\n",
        "plt.text(0, 0, label_1, fontsize=12, color='black', backgroundcolor='white')\n",
        "\n",
        "plt.subplot(1,2,2)\n",
        "plt.imshow(img_2.permute(1, 2, 0))\n",
        "plt.axis('on')\n",
        "plt.text(0, 0, label_2, fontsize=12, color='black', backgroundcolor='white')\n",
        "\n",
        "plt.show()\n",
        "\n",
        "print (\"The shape of the first image is: \", img_1.permute(1, 2, 0).shape)\n",
        "print (\"The shape of the second image is: \", img_2.permute(1, 2, 0).shape)"
      ]
    },
    {
      "cell_type": "code",
      "execution_count": 28,
      "metadata": {
        "id": "JNNfT9nMIZCR",
        "colab": {
          "base_uri": "https://localhost:8080/",
          "height": 368
        },
        "cellView": "form",
        "outputId": "149fb08d-e562-467e-9ed0-7bc0528b3b87"
      },
      "outputs": [
        {
          "output_type": "display_data",
          "data": {
            "text/plain": [
              "<Figure size 500x300 with 1 Axes>"
            ],
            "image/png": "[encoded data removed]"
          },
          "metadata": {}
        },
        {
          "output_type": "stream",
          "name": "stdout",
          "text": [
            "The number of normal images: 3875\n",
            "The number of pneumonia images: 3875\n"
          ]
        }
      ],
      "source": [
        "# @title Statistics after data augmentation\n",
        "# Definition of the paths for training, test and validation set\n",
        "path_training_set_resized_augmented = \"/content/chest_xray_resized_augmented/train\"\n",
        "\n",
        "# Counting the Normal and Pneumonia images in the training set\n",
        "train_norm, train_pneu = counter(path_training_set_resized_augmented, labels = True); # Count the number of normal images and pneumonia images\n",
        "\n",
        "# Histogram Data\n",
        "classes_hist = ['Normal', 'Pneumonia']\n",
        "counts_hist = [train_norm, train_pneu]\n",
        "colors_hist = ['aquamarine', 'blue']\n",
        "\n",
        "\n",
        "plt.figure(figsize=(5, 3))\n",
        "plt.bar(classes_hist, counts_hist, color=colors_hist)\n",
        "plt.title('Histogram distribution')\n",
        "plt.xlabel('Class')\n",
        "plt.ylabel('Count')\n",
        "plt.show()\n",
        "\n",
        "print(\"The number of normal images:\", train_norm)\n",
        "print(\"The number of pneumonia images:\", train_pneu)\n",
        "\n"
      ]
    },
    {
      "cell_type": "code",
      "execution_count": 29,
      "metadata": {
        "id": "C15kRm31B3aX",
        "colab": {
          "base_uri": "https://localhost:8080/",
          "height": 285
        },
        "cellView": "form",
        "outputId": "f4128966-bc4b-4bf0-9bf3-10bcf85c199f"
      },
      "outputs": [
        {
          "output_type": "display_data",
          "data": {
            "text/plain": [
              "<Figure size 600x300 with 2 Axes>"
            ],
            "image/png": "[encoded data removed]"
          },
          "metadata": {}
        }
      ],
      "source": [
        "# @title Visualization of two sample is augmented dataset\n",
        "# Instance of classes for the Dataset\n",
        "train_dataset_resized_augmented = ChestRayDataset(path_training_set_resized_augmented, tr_1) # Create an instance of training class\n",
        "\n",
        "# Generate two random numbers to select two random images from training set\n",
        "random_num_1 = np.random.randint(1, len(train_dataset_resized_augmented))\n",
        "random_num_2 = np.random.randint(1, len(train_dataset_resized_augmented))\n",
        "\n",
        "# Take an image + label randomly\n",
        "img_1, label_1 = train_dataset_resized_augmented[random_num_1]\n",
        "img_2, label_2 = train_dataset_resized_augmented[random_num_2]\n",
        "\n",
        "# Display the image using matplotlib library\n",
        "plt.figure(figsize=(6,3))\n",
        "plt.subplot(1,2,1)\n",
        "plt.imshow(img_1.permute(1, 2, 0))\n",
        "plt.axis('on')\n",
        "plt.text(0, 0, label_1, fontsize=12, color='black', backgroundcolor='white')\n",
        "\n",
        "plt.subplot(1,2,2)\n",
        "plt.imshow(img_2.permute(1, 2, 0))\n",
        "plt.axis('on')\n",
        "plt.text(0, 0, label_2, fontsize=12, color='black', backgroundcolor='white')\n",
        "\n",
        "plt.show()"
      ]
    },
    {
      "cell_type": "code",
      "execution_count": 30,
      "metadata": {
        "id": "AAvCKZVfbV4A",
        "colab": {
          "base_uri": "https://localhost:8080/",
          "height": 300
        },
        "outputId": "37d18617-cbef-4bf5-d860-8280303885ba",
        "cellView": "form"
      },
      "outputs": [
        {
          "output_type": "stream",
          "name": "stdout",
          "text": [
            "normal\n",
            "torch.Size([3, 1000, 1000])\n"
          ]
        },
        {
          "output_type": "execute_result",
          "data": {
            "text/plain": [
              "(-0.5, 999.5, 999.5, -0.5)"
            ]
          },
          "metadata": {},
          "execution_count": 30
        },
        {
          "output_type": "display_data",
          "data": {
            "text/plain": [
              "<Figure size 600x300 with 1 Axes>"
            ],
            "image/png": "[encoded data removed]"
          },
          "metadata": {}
        }
      ],
      "source": [
        "# @title Heatmap visualization - normal\n",
        "path_train_heatmap = global_var[\"extract_directory\"] + \"/\" + global_var[\"dataset_name_heatmap\"] + \"/train\"\n",
        "train_dataset_heatmap = ChestRayDataset(path_train_heatmap, tr_1)\n",
        "\n",
        "normal_img, label_1  = train_dataset_heatmap[110] #\"chest_xray/test/train_normal_00001.jpeg\"\n",
        "print(label_1)\n",
        "print(normal_img.shape)\n",
        "\n",
        "plt.figure( figsize=(6,3))\n",
        "plt.subplot(1,2,1)\n",
        "plt.imshow( np.transpose(normal_img, (1,2,0)), cmap='gray')\n",
        "plt.axis('off')\n",
        "\n",
        "#plt.subplot(1,2,2)\n",
        "#plt.imshow(processed_img)\n",
        "plt.axis('off')"
      ]
    },
    {
      "cell_type": "code",
      "execution_count": 31,
      "metadata": {
        "id": "bqOv_AceeXmq",
        "colab": {
          "base_uri": "https://localhost:8080/",
          "height": 300
        },
        "outputId": "c54eb1eb-3b28-498d-afd8-9639644e4c72",
        "cellView": "form"
      },
      "outputs": [
        {
          "output_type": "stream",
          "name": "stdout",
          "text": [
            "normal\n",
            "torch.Size([3, 1000, 1000])\n"
          ]
        },
        {
          "output_type": "execute_result",
          "data": {
            "text/plain": [
              "(-0.5, 999.5, 999.5, -0.5)"
            ]
          },
          "metadata": {},
          "execution_count": 31
        },
        {
          "output_type": "display_data",
          "data": {
            "text/plain": [
              "<Figure size 600x300 with 1 Axes>"
            ],
            "image/png": "[encoded data removed]"
          },
          "metadata": {}
        }
      ],
      "source": [
        "# @title Heatmap visualization - pneumonia\n",
        "normal_img, label_2  = train_dataset_heatmap[100]\n",
        "print(label_2)\n",
        "print(normal_img.shape)\n",
        "\n",
        "plt.figure( figsize=(6,3))\n",
        "plt.subplot(1,2,1)\n",
        "plt.imshow(np.transpose(normal_img, (1,2,0)), cmap='gray')\n",
        "plt.axis('off')\n",
        "\n",
        "#plt.subplot(1,2,2)\n",
        "#plt.imshow(np.transpose(normal_img, (1,2,0)))\n",
        "plt.axis('off')"
      ]
    },
    {
      "cell_type": "markdown",
      "source": [
        "## Altro"
      ],
      "metadata": {
        "id": "tru1XMrbMq6Q"
      }
    }
  ],
  "metadata": {
    "colab": {
      "collapsed_sections": [
        "SLd6orOiZu_g",
        "MA3Ri86cs3Nr",
        "2yOQD6ATspbh"
      ],
      "provenance": []
    },
    "kernelspec": {
      "display_name": "Python 3",
      "name": "python3"
    },
    "language_info": {
      "name": "python"
    },
    "widgets": {
      "application/vnd.jupyter.widget-state+json": {
        "c9d6feaba5d64d5cbc26cc517435ccad": {
          "model_module": "@jupyter-widgets/controls",
          "model_name": "HBoxModel",
          "model_module_version": "1.5.0",
          "state": {
            "_dom_classes": [],
            "_model_module": "@jupyter-widgets/controls",
            "_model_module_version": "1.5.0",
            "_model_name": "HBoxModel",
            "_view_count": null,
            "_view_module": "@jupyter-widgets/controls",
            "_view_module_version": "1.5.0",
            "_view_name": "HBoxView",
            "box_style": "",
            "children": [
              "IPY_MODEL_fd6ed9a8f7c746a6b9634114f56132bb",
              "IPY_MODEL_9463a9aa742b483cb2ec18db53b22728",
              "IPY_MODEL_51990cd159974753aca08f58c2700ecf"
            ],
            "layout": "IPY_MODEL_a5221e39aeae469fb377cb864242466c"
          }
        },
        "fd6ed9a8f7c746a6b9634114f56132bb": {
          "model_module": "@jupyter-widgets/controls",
          "model_name": "HTMLModel",
          "model_module_version": "1.5.0",
          "state": {
            "_dom_classes": [],
            "_model_module": "@jupyter-widgets/controls",
            "_model_module_version": "1.5.0",
            "_model_name": "HTMLModel",
            "_view_count": null,
            "_view_module": "@jupyter-widgets/controls",
            "_view_module_version": "1.5.0",
            "_view_name": "HTMLView",
            "description": "",
            "description_tooltip": null,
            "layout": "IPY_MODEL_90e0117a0b9b49cf8a24ebbdde39274f",
            "placeholder": "​",
            "style": "IPY_MODEL_1404a2aea7274c57b6ccb1ac45b46026",
            "value": "Unzipping files: 100%"
          }
        },
        "9463a9aa742b483cb2ec18db53b22728": {
          "model_module": "@jupyter-widgets/controls",
          "model_name": "FloatProgressModel",
          "model_module_version": "1.5.0",
          "state": {
            "_dom_classes": [],
            "_model_module": "@jupyter-widgets/controls",
            "_model_module_version": "1.5.0",
            "_model_name": "FloatProgressModel",
            "_view_count": null,
            "_view_module": "@jupyter-widgets/controls",
            "_view_module_version": "1.5.0",
            "_view_name": "ProgressView",
            "bar_style": "success",
            "description": "",
            "description_tooltip": null,
            "layout": "IPY_MODEL_10d26cc7deed44e2a5b46241665f9dfa",
            "max": 17591,
            "min": 0,
            "orientation": "horizontal",
            "style": "IPY_MODEL_8f21ef1eefa346fc84ec021c60eabf1c",
            "value": 17591
          }
        },
        "51990cd159974753aca08f58c2700ecf": {
          "model_module": "@jupyter-widgets/controls",
          "model_name": "HTMLModel",
          "model_module_version": "1.5.0",
          "state": {
            "_dom_classes": [],
            "_model_module": "@jupyter-widgets/controls",
            "_model_module_version": "1.5.0",
            "_model_name": "HTMLModel",
            "_view_count": null,
            "_view_module": "@jupyter-widgets/controls",
            "_view_module_version": "1.5.0",
            "_view_name": "HTMLView",
            "description": "",
            "description_tooltip": null,
            "layout": "IPY_MODEL_a4a9eb02f3674bdf911e23daba59d702",
            "placeholder": "​",
            "style": "IPY_MODEL_bd6058ae3a184d06a26a6e30fd09ba34",
            "value": " 17591/17591 [00:28&lt;00:00, 921.21it/s]"
          }
        },
        "a5221e39aeae469fb377cb864242466c": {
          "model_module": "@jupyter-widgets/base",
          "model_name": "LayoutModel",
          "model_module_version": "1.2.0",
          "state": {
            "_model_module": "@jupyter-widgets/base",
            "_model_module_version": "1.2.0",
            "_model_name": "LayoutModel",
            "_view_count": null,
            "_view_module": "@jupyter-widgets/base",
            "_view_module_version": "1.2.0",
            "_view_name": "LayoutView",
            "align_content": null,
            "align_items": null,
            "align_self": null,
            "border": null,
            "bottom": null,
            "display": null,
            "flex": null,
            "flex_flow": null,
            "grid_area": null,
            "grid_auto_columns": null,
            "grid_auto_flow": null,
            "grid_auto_rows": null,
            "grid_column": null,
            "grid_gap": null,
            "grid_row": null,
            "grid_template_areas": null,
            "grid_template_columns": null,
            "grid_template_rows": null,
            "height": null,
            "justify_content": null,
            "justify_items": null,
            "left": null,
            "margin": null,
            "max_height": null,
            "max_width": null,
            "min_height": null,
            "min_width": null,
            "object_fit": null,
            "object_position": null,
            "order": null,
            "overflow": null,
            "overflow_x": null,
            "overflow_y": null,
            "padding": null,
            "right": null,
            "top": null,
            "visibility": null,
            "width": null
          }
        },
        "90e0117a0b9b49cf8a24ebbdde39274f": {
          "model_module": "@jupyter-widgets/base",
          "model_name": "LayoutModel",
          "model_module_version": "1.2.0",
          "state": {
            "_model_module": "@jupyter-widgets/base",
            "_model_module_version": "1.2.0",
            "_model_name": "LayoutModel",
            "_view_count": null,
            "_view_module": "@jupyter-widgets/base",
            "_view_module_version": "1.2.0",
            "_view_name": "LayoutView",
            "align_content": null,
            "align_items": null,
            "align_self": null,
            "border": null,
            "bottom": null,
            "display": null,
            "flex": null,
            "flex_flow": null,
            "grid_area": null,
            "grid_auto_columns": null,
            "grid_auto_flow": null,
            "grid_auto_rows": null,
            "grid_column": null,
            "grid_gap": null,
            "grid_row": null,
            "grid_template_areas": null,
            "grid_template_columns": null,
            "grid_template_rows": null,
            "height": null,
            "justify_content": null,
            "justify_items": null,
            "left": null,
            "margin": null,
            "max_height": null,
            "max_width": null,
            "min_height": null,
            "min_width": null,
            "object_fit": null,
            "object_position": null,
            "order": null,
            "overflow": null,
            "overflow_x": null,
            "overflow_y": null,
            "padding": null,
            "right": null,
            "top": null,
            "visibility": null,
            "width": null
          }
        },
        "1404a2aea7274c57b6ccb1ac45b46026": {
          "model_module": "@jupyter-widgets/controls",
          "model_name": "DescriptionStyleModel",
          "model_module_version": "1.5.0",
          "state": {
            "_model_module": "@jupyter-widgets/controls",
            "_model_module_version": "1.5.0",
            "_model_name": "DescriptionStyleModel",
            "_view_count": null,
            "_view_module": "@jupyter-widgets/base",
            "_view_module_version": "1.2.0",
            "_view_name": "StyleView",
            "description_width": ""
          }
        },
        "10d26cc7deed44e2a5b46241665f9dfa": {
          "model_module": "@jupyter-widgets/base",
          "model_name": "LayoutModel",
          "model_module_version": "1.2.0",
          "state": {
            "_model_module": "@jupyter-widgets/base",
            "_model_module_version": "1.2.0",
            "_model_name": "LayoutModel",
            "_view_count": null,
            "_view_module": "@jupyter-widgets/base",
            "_view_module_version": "1.2.0",
            "_view_name": "LayoutView",
            "align_content": null,
            "align_items": null,
            "align_self": null,
            "border": null,
            "bottom": null,
            "display": null,
            "flex": null,
            "flex_flow": null,
            "grid_area": null,
            "grid_auto_columns": null,
            "grid_auto_flow": null,
            "grid_auto_rows": null,
            "grid_column": null,
            "grid_gap": null,
            "grid_row": null,
            "grid_template_areas": null,
            "grid_template_columns": null,
            "grid_template_rows": null,
            "height": null,
            "justify_content": null,
            "justify_items": null,
            "left": null,
            "margin": null,
            "max_height": null,
            "max_width": null,
            "min_height": null,
            "min_width": null,
            "object_fit": null,
            "object_position": null,
            "order": null,
            "overflow": null,
            "overflow_x": null,
            "overflow_y": null,
            "padding": null,
            "right": null,
            "top": null,
            "visibility": null,
            "width": null
          }
        },
        "8f21ef1eefa346fc84ec021c60eabf1c": {
          "model_module": "@jupyter-widgets/controls",
          "model_name": "ProgressStyleModel",
          "model_module_version": "1.5.0",
          "state": {
            "_model_module": "@jupyter-widgets/controls",
            "_model_module_version": "1.5.0",
            "_model_name": "ProgressStyleModel",
            "_view_count": null,
            "_view_module": "@jupyter-widgets/base",
            "_view_module_version": "1.2.0",
            "_view_name": "StyleView",
            "bar_color": null,
            "description_width": ""
          }
        },
        "a4a9eb02f3674bdf911e23daba59d702": {
          "model_module": "@jupyter-widgets/base",
          "model_name": "LayoutModel",
          "model_module_version": "1.2.0",
          "state": {
            "_model_module": "@jupyter-widgets/base",
            "_model_module_version": "1.2.0",
            "_model_name": "LayoutModel",
            "_view_count": null,
            "_view_module": "@jupyter-widgets/base",
            "_view_module_version": "1.2.0",
            "_view_name": "LayoutView",
            "align_content": null,
            "align_items": null,
            "align_self": null,
            "border": null,
            "bottom": null,
            "display": null,
            "flex": null,
            "flex_flow": null,
            "grid_area": null,
            "grid_auto_columns": null,
            "grid_auto_flow": null,
            "grid_auto_rows": null,
            "grid_column": null,
            "grid_gap": null,
            "grid_row": null,
            "grid_template_areas": null,
            "grid_template_columns": null,
            "grid_template_rows": null,
            "height": null,
            "justify_content": null,
            "justify_items": null,
            "left": null,
            "margin": null,
            "max_height": null,
            "max_width": null,
            "min_height": null,
            "min_width": null,
            "object_fit": null,
            "object_position": null,
            "order": null,
            "overflow": null,
            "overflow_x": null,
            "overflow_y": null,
            "padding": null,
            "right": null,
            "top": null,
            "visibility": null,
            "width": null
          }
        },
        "bd6058ae3a184d06a26a6e30fd09ba34": {
          "model_module": "@jupyter-widgets/controls",
          "model_name": "DescriptionStyleModel",
          "model_module_version": "1.5.0",
          "state": {
            "_model_module": "@jupyter-widgets/controls",
            "_model_module_version": "1.5.0",
            "_model_name": "DescriptionStyleModel",
            "_view_count": null,
            "_view_module": "@jupyter-widgets/base",
            "_view_module_version": "1.2.0",
            "_view_name": "StyleView",
            "description_width": ""
          }
        },
        "58d43ea6212141f0b0963917b9577e79": {
          "model_module": "@jupyter-widgets/controls",
          "model_name": "HBoxModel",
          "model_module_version": "1.5.0",
          "state": {
            "_dom_classes": [],
            "_model_module": "@jupyter-widgets/controls",
            "_model_module_version": "1.5.0",
            "_model_name": "HBoxModel",
            "_view_count": null,
            "_view_module": "@jupyter-widgets/controls",
            "_view_module_version": "1.5.0",
            "_view_name": "HBoxView",
            "box_style": "",
            "children": [
              "IPY_MODEL_20f06bf4a8694d909d1ba749ca1e3f7f",
              "IPY_MODEL_cb6ac7cb39684c9ba4b57640049c3b16",
              "IPY_MODEL_78cd49d501814dd3904fdcc34043c001"
            ],
            "layout": "IPY_MODEL_19b8f340587e46ffbce069c4e86316c4"
          }
        },
        "20f06bf4a8694d909d1ba749ca1e3f7f": {
          "model_module": "@jupyter-widgets/controls",
          "model_name": "HTMLModel",
          "model_module_version": "1.5.0",
          "state": {
            "_dom_classes": [],
            "_model_module": "@jupyter-widgets/controls",
            "_model_module_version": "1.5.0",
            "_model_name": "HTMLModel",
            "_view_count": null,
            "_view_module": "@jupyter-widgets/controls",
            "_view_module_version": "1.5.0",
            "_view_name": "HTMLView",
            "description": "",
            "description_tooltip": null,
            "layout": "IPY_MODEL_2f170b15af4e46cb8870a56cb4bec95a",
            "placeholder": "​",
            "style": "IPY_MODEL_1b366138038d48eb8f96e3423851488d",
            "value": "Resizing train images: 100%"
          }
        },
        "cb6ac7cb39684c9ba4b57640049c3b16": {
          "model_module": "@jupyter-widgets/controls",
          "model_name": "FloatProgressModel",
          "model_module_version": "1.5.0",
          "state": {
            "_dom_classes": [],
            "_model_module": "@jupyter-widgets/controls",
            "_model_module_version": "1.5.0",
            "_model_name": "FloatProgressModel",
            "_view_count": null,
            "_view_module": "@jupyter-widgets/controls",
            "_view_module_version": "1.5.0",
            "_view_name": "ProgressView",
            "bar_style": "success",
            "description": "",
            "description_tooltip": null,
            "layout": "IPY_MODEL_349bb236ac044a75920f3f394f683560",
            "max": 5216,
            "min": 0,
            "orientation": "horizontal",
            "style": "IPY_MODEL_a11a6c4a53504d9aba66022e9be289dd",
            "value": 5216
          }
        },
        "78cd49d501814dd3904fdcc34043c001": {
          "model_module": "@jupyter-widgets/controls",
          "model_name": "HTMLModel",
          "model_module_version": "1.5.0",
          "state": {
            "_dom_classes": [],
            "_model_module": "@jupyter-widgets/controls",
            "_model_module_version": "1.5.0",
            "_model_name": "HTMLModel",
            "_view_count": null,
            "_view_module": "@jupyter-widgets/controls",
            "_view_module_version": "1.5.0",
            "_view_name": "HTMLView",
            "description": "",
            "description_tooltip": null,
            "layout": "IPY_MODEL_305d33e2f6a6451abd86e3dedcba1c4f",
            "placeholder": "​",
            "style": "IPY_MODEL_e26394395d7646aa8db4c3e3c3b1a27f",
            "value": " 5216/5216 [01:53&lt;00:00, 42.27image/s]"
          }
        },
        "19b8f340587e46ffbce069c4e86316c4": {
          "model_module": "@jupyter-widgets/base",
          "model_name": "LayoutModel",
          "model_module_version": "1.2.0",
          "state": {
            "_model_module": "@jupyter-widgets/base",
            "_model_module_version": "1.2.0",
            "_model_name": "LayoutModel",
            "_view_count": null,
            "_view_module": "@jupyter-widgets/base",
            "_view_module_version": "1.2.0",
            "_view_name": "LayoutView",
            "align_content": null,
            "align_items": null,
            "align_self": null,
            "border": null,
            "bottom": null,
            "display": null,
            "flex": null,
            "flex_flow": null,
            "grid_area": null,
            "grid_auto_columns": null,
            "grid_auto_flow": null,
            "grid_auto_rows": null,
            "grid_column": null,
            "grid_gap": null,
            "grid_row": null,
            "grid_template_areas": null,
            "grid_template_columns": null,
            "grid_template_rows": null,
            "height": null,
            "justify_content": null,
            "justify_items": null,
            "left": null,
            "margin": null,
            "max_height": null,
            "max_width": null,
            "min_height": null,
            "min_width": null,
            "object_fit": null,
            "object_position": null,
            "order": null,
            "overflow": null,
            "overflow_x": null,
            "overflow_y": null,
            "padding": null,
            "right": null,
            "top": null,
            "visibility": null,
            "width": null
          }
        },
        "2f170b15af4e46cb8870a56cb4bec95a": {
          "model_module": "@jupyter-widgets/base",
          "model_name": "LayoutModel",
          "model_module_version": "1.2.0",
          "state": {
            "_model_module": "@jupyter-widgets/base",
            "_model_module_version": "1.2.0",
            "_model_name": "LayoutModel",
            "_view_count": null,
            "_view_module": "@jupyter-widgets/base",
            "_view_module_version": "1.2.0",
            "_view_name": "LayoutView",
            "align_content": null,
            "align_items": null,
            "align_self": null,
            "border": null,
            "bottom": null,
            "display": null,
            "flex": null,
            "flex_flow": null,
            "grid_area": null,
            "grid_auto_columns": null,
            "grid_auto_flow": null,
            "grid_auto_rows": null,
            "grid_column": null,
            "grid_gap": null,
            "grid_row": null,
            "grid_template_areas": null,
            "grid_template_columns": null,
            "grid_template_rows": null,
            "height": null,
            "justify_content": null,
            "justify_items": null,
            "left": null,
            "margin": null,
            "max_height": null,
            "max_width": null,
            "min_height": null,
            "min_width": null,
            "object_fit": null,
            "object_position": null,
            "order": null,
            "overflow": null,
            "overflow_x": null,
            "overflow_y": null,
            "padding": null,
            "right": null,
            "top": null,
            "visibility": null,
            "width": null
          }
        },
        "1b366138038d48eb8f96e3423851488d": {
          "model_module": "@jupyter-widgets/controls",
          "model_name": "DescriptionStyleModel",
          "model_module_version": "1.5.0",
          "state": {
            "_model_module": "@jupyter-widgets/controls",
            "_model_module_version": "1.5.0",
            "_model_name": "DescriptionStyleModel",
            "_view_count": null,
            "_view_module": "@jupyter-widgets/base",
            "_view_module_version": "1.2.0",
            "_view_name": "StyleView",
            "description_width": ""
          }
        },
        "349bb236ac044a75920f3f394f683560": {
          "model_module": "@jupyter-widgets/base",
          "model_name": "LayoutModel",
          "model_module_version": "1.2.0",
          "state": {
            "_model_module": "@jupyter-widgets/base",
            "_model_module_version": "1.2.0",
            "_model_name": "LayoutModel",
            "_view_count": null,
            "_view_module": "@jupyter-widgets/base",
            "_view_module_version": "1.2.0",
            "_view_name": "LayoutView",
            "align_content": null,
            "align_items": null,
            "align_self": null,
            "border": null,
            "bottom": null,
            "display": null,
            "flex": null,
            "flex_flow": null,
            "grid_area": null,
            "grid_auto_columns": null,
            "grid_auto_flow": null,
            "grid_auto_rows": null,
            "grid_column": null,
            "grid_gap": null,
            "grid_row": null,
            "grid_template_areas": null,
            "grid_template_columns": null,
            "grid_template_rows": null,
            "height": null,
            "justify_content": null,
            "justify_items": null,
            "left": null,
            "margin": null,
            "max_height": null,
            "max_width": null,
            "min_height": null,
            "min_width": null,
            "object_fit": null,
            "object_position": null,
            "order": null,
            "overflow": null,
            "overflow_x": null,
            "overflow_y": null,
            "padding": null,
            "right": null,
            "top": null,
            "visibility": null,
            "width": null
          }
        },
        "a11a6c4a53504d9aba66022e9be289dd": {
          "model_module": "@jupyter-widgets/controls",
          "model_name": "ProgressStyleModel",
          "model_module_version": "1.5.0",
          "state": {
            "_model_module": "@jupyter-widgets/controls",
            "_model_module_version": "1.5.0",
            "_model_name": "ProgressStyleModel",
            "_view_count": null,
            "_view_module": "@jupyter-widgets/base",
            "_view_module_version": "1.2.0",
            "_view_name": "StyleView",
            "bar_color": null,
            "description_width": ""
          }
        },
        "305d33e2f6a6451abd86e3dedcba1c4f": {
          "model_module": "@jupyter-widgets/base",
          "model_name": "LayoutModel",
          "model_module_version": "1.2.0",
          "state": {
            "_model_module": "@jupyter-widgets/base",
            "_model_module_version": "1.2.0",
            "_model_name": "LayoutModel",
            "_view_count": null,
            "_view_module": "@jupyter-widgets/base",
            "_view_module_version": "1.2.0",
            "_view_name": "LayoutView",
            "align_content": null,
            "align_items": null,
            "align_self": null,
            "border": null,
            "bottom": null,
            "display": null,
            "flex": null,
            "flex_flow": null,
            "grid_area": null,
            "grid_auto_columns": null,
            "grid_auto_flow": null,
            "grid_auto_rows": null,
            "grid_column": null,
            "grid_gap": null,
            "grid_row": null,
            "grid_template_areas": null,
            "grid_template_columns": null,
            "grid_template_rows": null,
            "height": null,
            "justify_content": null,
            "justify_items": null,
            "left": null,
            "margin": null,
            "max_height": null,
            "max_width": null,
            "min_height": null,
            "min_width": null,
            "object_fit": null,
            "object_position": null,
            "order": null,
            "overflow": null,
            "overflow_x": null,
            "overflow_y": null,
            "padding": null,
            "right": null,
            "top": null,
            "visibility": null,
            "width": null
          }
        },
        "e26394395d7646aa8db4c3e3c3b1a27f": {
          "model_module": "@jupyter-widgets/controls",
          "model_name": "DescriptionStyleModel",
          "model_module_version": "1.5.0",
          "state": {
            "_model_module": "@jupyter-widgets/controls",
            "_model_module_version": "1.5.0",
            "_model_name": "DescriptionStyleModel",
            "_view_count": null,
            "_view_module": "@jupyter-widgets/base",
            "_view_module_version": "1.2.0",
            "_view_name": "StyleView",
            "description_width": ""
          }
        },
        "1f3e967a7b894e0fbbaee3cf33894da9": {
          "model_module": "@jupyter-widgets/controls",
          "model_name": "HBoxModel",
          "model_module_version": "1.5.0",
          "state": {
            "_dom_classes": [],
            "_model_module": "@jupyter-widgets/controls",
            "_model_module_version": "1.5.0",
            "_model_name": "HBoxModel",
            "_view_count": null,
            "_view_module": "@jupyter-widgets/controls",
            "_view_module_version": "1.5.0",
            "_view_name": "HBoxView",
            "box_style": "",
            "children": [
              "IPY_MODEL_b4134725795a4d1b8ef57488e92d4ce2",
              "IPY_MODEL_91750a3f97344d2188706302c83d6863",
              "IPY_MODEL_19e9f58394fc4cdd9792efff50214fa0"
            ],
            "layout": "IPY_MODEL_7e645dfb1d434c459dca6ec75f7840f8"
          }
        },
        "b4134725795a4d1b8ef57488e92d4ce2": {
          "model_module": "@jupyter-widgets/controls",
          "model_name": "HTMLModel",
          "model_module_version": "1.5.0",
          "state": {
            "_dom_classes": [],
            "_model_module": "@jupyter-widgets/controls",
            "_model_module_version": "1.5.0",
            "_model_name": "HTMLModel",
            "_view_count": null,
            "_view_module": "@jupyter-widgets/controls",
            "_view_module_version": "1.5.0",
            "_view_name": "HTMLView",
            "description": "",
            "description_tooltip": null,
            "layout": "IPY_MODEL_0b8c284e990a433a9fe036ddf6dbdf73",
            "placeholder": "​",
            "style": "IPY_MODEL_188fed695f2c4f5cb5499c2ddfee9885",
            "value": "Resizing test images: 100%"
          }
        },
        "91750a3f97344d2188706302c83d6863": {
          "model_module": "@jupyter-widgets/controls",
          "model_name": "FloatProgressModel",
          "model_module_version": "1.5.0",
          "state": {
            "_dom_classes": [],
            "_model_module": "@jupyter-widgets/controls",
            "_model_module_version": "1.5.0",
            "_model_name": "FloatProgressModel",
            "_view_count": null,
            "_view_module": "@jupyter-widgets/controls",
            "_view_module_version": "1.5.0",
            "_view_name": "ProgressView",
            "bar_style": "success",
            "description": "",
            "description_tooltip": null,
            "layout": "IPY_MODEL_a29f252af5de4410895a689cf0237c66",
            "max": 624,
            "min": 0,
            "orientation": "horizontal",
            "style": "IPY_MODEL_c914e469afbe42f0a012fd425a179e9a",
            "value": 624
          }
        },
        "19e9f58394fc4cdd9792efff50214fa0": {
          "model_module": "@jupyter-widgets/controls",
          "model_name": "HTMLModel",
          "model_module_version": "1.5.0",
          "state": {
            "_dom_classes": [],
            "_model_module": "@jupyter-widgets/controls",
            "_model_module_version": "1.5.0",
            "_model_name": "HTMLModel",
            "_view_count": null,
            "_view_module": "@jupyter-widgets/controls",
            "_view_module_version": "1.5.0",
            "_view_name": "HTMLView",
            "description": "",
            "description_tooltip": null,
            "layout": "IPY_MODEL_eef3ce5c34a74102bdcb15d2cb3ae4f8",
            "placeholder": "​",
            "style": "IPY_MODEL_5e1bdffccff74f8480e669aed16fd66a",
            "value": " 624/624 [00:12&lt;00:00, 52.42image/s]"
          }
        },
        "7e645dfb1d434c459dca6ec75f7840f8": {
          "model_module": "@jupyter-widgets/base",
          "model_name": "LayoutModel",
          "model_module_version": "1.2.0",
          "state": {
            "_model_module": "@jupyter-widgets/base",
            "_model_module_version": "1.2.0",
            "_model_name": "LayoutModel",
            "_view_count": null,
            "_view_module": "@jupyter-widgets/base",
            "_view_module_version": "1.2.0",
            "_view_name": "LayoutView",
            "align_content": null,
            "align_items": null,
            "align_self": null,
            "border": null,
            "bottom": null,
            "display": null,
            "flex": null,
            "flex_flow": null,
            "grid_area": null,
            "grid_auto_columns": null,
            "grid_auto_flow": null,
            "grid_auto_rows": null,
            "grid_column": null,
            "grid_gap": null,
            "grid_row": null,
            "grid_template_areas": null,
            "grid_template_columns": null,
            "grid_template_rows": null,
            "height": null,
            "justify_content": null,
            "justify_items": null,
            "left": null,
            "margin": null,
            "max_height": null,
            "max_width": null,
            "min_height": null,
            "min_width": null,
            "object_fit": null,
            "object_position": null,
            "order": null,
            "overflow": null,
            "overflow_x": null,
            "overflow_y": null,
            "padding": null,
            "right": null,
            "top": null,
            "visibility": null,
            "width": null
          }
        },
        "0b8c284e990a433a9fe036ddf6dbdf73": {
          "model_module": "@jupyter-widgets/base",
          "model_name": "LayoutModel",
          "model_module_version": "1.2.0",
          "state": {
            "_model_module": "@jupyter-widgets/base",
            "_model_module_version": "1.2.0",
            "_model_name": "LayoutModel",
            "_view_count": null,
            "_view_module": "@jupyter-widgets/base",
            "_view_module_version": "1.2.0",
            "_view_name": "LayoutView",
            "align_content": null,
            "align_items": null,
            "align_self": null,
            "border": null,
            "bottom": null,
            "display": null,
            "flex": null,
            "flex_flow": null,
            "grid_area": null,
            "grid_auto_columns": null,
            "grid_auto_flow": null,
            "grid_auto_rows": null,
            "grid_column": null,
            "grid_gap": null,
            "grid_row": null,
            "grid_template_areas": null,
            "grid_template_columns": null,
            "grid_template_rows": null,
            "height": null,
            "justify_content": null,
            "justify_items": null,
            "left": null,
            "margin": null,
            "max_height": null,
            "max_width": null,
            "min_height": null,
            "min_width": null,
            "object_fit": null,
            "object_position": null,
            "order": null,
            "overflow": null,
            "overflow_x": null,
            "overflow_y": null,
            "padding": null,
            "right": null,
            "top": null,
            "visibility": null,
            "width": null
          }
        },
        "188fed695f2c4f5cb5499c2ddfee9885": {
          "model_module": "@jupyter-widgets/controls",
          "model_name": "DescriptionStyleModel",
          "model_module_version": "1.5.0",
          "state": {
            "_model_module": "@jupyter-widgets/controls",
            "_model_module_version": "1.5.0",
            "_model_name": "DescriptionStyleModel",
            "_view_count": null,
            "_view_module": "@jupyter-widgets/base",
            "_view_module_version": "1.2.0",
            "_view_name": "StyleView",
            "description_width": ""
          }
        },
        "a29f252af5de4410895a689cf0237c66": {
          "model_module": "@jupyter-widgets/base",
          "model_name": "LayoutModel",
          "model_module_version": "1.2.0",
          "state": {
            "_model_module": "@jupyter-widgets/base",
            "_model_module_version": "1.2.0",
            "_model_name": "LayoutModel",
            "_view_count": null,
            "_view_module": "@jupyter-widgets/base",
            "_view_module_version": "1.2.0",
            "_view_name": "LayoutView",
            "align_content": null,
            "align_items": null,
            "align_self": null,
            "border": null,
            "bottom": null,
            "display": null,
            "flex": null,
            "flex_flow": null,
            "grid_area": null,
            "grid_auto_columns": null,
            "grid_auto_flow": null,
            "grid_auto_rows": null,
            "grid_column": null,
            "grid_gap": null,
            "grid_row": null,
            "grid_template_areas": null,
            "grid_template_columns": null,
            "grid_template_rows": null,
            "height": null,
            "justify_content": null,
            "justify_items": null,
            "left": null,
            "margin": null,
            "max_height": null,
            "max_width": null,
            "min_height": null,
            "min_width": null,
            "object_fit": null,
            "object_position": null,
            "order": null,
            "overflow": null,
            "overflow_x": null,
            "overflow_y": null,
            "padding": null,
            "right": null,
            "top": null,
            "visibility": null,
            "width": null
          }
        },
        "c914e469afbe42f0a012fd425a179e9a": {
          "model_module": "@jupyter-widgets/controls",
          "model_name": "ProgressStyleModel",
          "model_module_version": "1.5.0",
          "state": {
            "_model_module": "@jupyter-widgets/controls",
            "_model_module_version": "1.5.0",
            "_model_name": "ProgressStyleModel",
            "_view_count": null,
            "_view_module": "@jupyter-widgets/base",
            "_view_module_version": "1.2.0",
            "_view_name": "StyleView",
            "bar_color": null,
            "description_width": ""
          }
        },
        "eef3ce5c34a74102bdcb15d2cb3ae4f8": {
          "model_module": "@jupyter-widgets/base",
          "model_name": "LayoutModel",
          "model_module_version": "1.2.0",
          "state": {
            "_model_module": "@jupyter-widgets/base",
            "_model_module_version": "1.2.0",
            "_model_name": "LayoutModel",
            "_view_count": null,
            "_view_module": "@jupyter-widgets/base",
            "_view_module_version": "1.2.0",
            "_view_name": "LayoutView",
            "align_content": null,
            "align_items": null,
            "align_self": null,
            "border": null,
            "bottom": null,
            "display": null,
            "flex": null,
            "flex_flow": null,
            "grid_area": null,
            "grid_auto_columns": null,
            "grid_auto_flow": null,
            "grid_auto_rows": null,
            "grid_column": null,
            "grid_gap": null,
            "grid_row": null,
            "grid_template_areas": null,
            "grid_template_columns": null,
            "grid_template_rows": null,
            "height": null,
            "justify_content": null,
            "justify_items": null,
            "left": null,
            "margin": null,
            "max_height": null,
            "max_width": null,
            "min_height": null,
            "min_width": null,
            "object_fit": null,
            "object_position": null,
            "order": null,
            "overflow": null,
            "overflow_x": null,
            "overflow_y": null,
            "padding": null,
            "right": null,
            "top": null,
            "visibility": null,
            "width": null
          }
        },
        "5e1bdffccff74f8480e669aed16fd66a": {
          "model_module": "@jupyter-widgets/controls",
          "model_name": "DescriptionStyleModel",
          "model_module_version": "1.5.0",
          "state": {
            "_model_module": "@jupyter-widgets/controls",
            "_model_module_version": "1.5.0",
            "_model_name": "DescriptionStyleModel",
            "_view_count": null,
            "_view_module": "@jupyter-widgets/base",
            "_view_module_version": "1.2.0",
            "_view_name": "StyleView",
            "description_width": ""
          }
        },
        "ee3873abe3f84104a23bc8c456e3953d": {
          "model_module": "@jupyter-widgets/controls",
          "model_name": "HBoxModel",
          "model_module_version": "1.5.0",
          "state": {
            "_dom_classes": [],
            "_model_module": "@jupyter-widgets/controls",
            "_model_module_version": "1.5.0",
            "_model_name": "HBoxModel",
            "_view_count": null,
            "_view_module": "@jupyter-widgets/controls",
            "_view_module_version": "1.5.0",
            "_view_name": "HBoxView",
            "box_style": "",
            "children": [
              "IPY_MODEL_889ffe7316cc4e0093348e70e73ec3f8",
              "IPY_MODEL_716a0636e67445e0bedb35e74ee7678f",
              "IPY_MODEL_8fe1ae9df8be486296429042492be9ed"
            ],
            "layout": "IPY_MODEL_3c15303b034246d3bbfbbc8afc1e7205"
          }
        },
        "889ffe7316cc4e0093348e70e73ec3f8": {
          "model_module": "@jupyter-widgets/controls",
          "model_name": "HTMLModel",
          "model_module_version": "1.5.0",
          "state": {
            "_dom_classes": [],
            "_model_module": "@jupyter-widgets/controls",
            "_model_module_version": "1.5.0",
            "_model_name": "HTMLModel",
            "_view_count": null,
            "_view_module": "@jupyter-widgets/controls",
            "_view_module_version": "1.5.0",
            "_view_name": "HTMLView",
            "description": "",
            "description_tooltip": null,
            "layout": "IPY_MODEL_e1ec59a24e964a09a5d239ce1d996403",
            "placeholder": "​",
            "style": "IPY_MODEL_22ef67aff80b4fa5acb31148190684be",
            "value": "Resizing val images: 100%"
          }
        },
        "716a0636e67445e0bedb35e74ee7678f": {
          "model_module": "@jupyter-widgets/controls",
          "model_name": "FloatProgressModel",
          "model_module_version": "1.5.0",
          "state": {
            "_dom_classes": [],
            "_model_module": "@jupyter-widgets/controls",
            "_model_module_version": "1.5.0",
            "_model_name": "FloatProgressModel",
            "_view_count": null,
            "_view_module": "@jupyter-widgets/controls",
            "_view_module_version": "1.5.0",
            "_view_name": "ProgressView",
            "bar_style": "success",
            "description": "",
            "description_tooltip": null,
            "layout": "IPY_MODEL_d6993252534042779c1d889ec49a7774",
            "max": 16,
            "min": 0,
            "orientation": "horizontal",
            "style": "IPY_MODEL_2c29efffd964442389a50c93e2c7891f",
            "value": 16
          }
        },
        "8fe1ae9df8be486296429042492be9ed": {
          "model_module": "@jupyter-widgets/controls",
          "model_name": "HTMLModel",
          "model_module_version": "1.5.0",
          "state": {
            "_dom_classes": [],
            "_model_module": "@jupyter-widgets/controls",
            "_model_module_version": "1.5.0",
            "_model_name": "HTMLModel",
            "_view_count": null,
            "_view_module": "@jupyter-widgets/controls",
            "_view_module_version": "1.5.0",
            "_view_name": "HTMLView",
            "description": "",
            "description_tooltip": null,
            "layout": "IPY_MODEL_2119e54adba341e19e8ac5482a4fbb9f",
            "placeholder": "​",
            "style": "IPY_MODEL_075e091d94a24c5d88bb83b9c2248a7c",
            "value": " 16/16 [00:00&lt;00:00, 51.47image/s]"
          }
        },
        "3c15303b034246d3bbfbbc8afc1e7205": {
          "model_module": "@jupyter-widgets/base",
          "model_name": "LayoutModel",
          "model_module_version": "1.2.0",
          "state": {
            "_model_module": "@jupyter-widgets/base",
            "_model_module_version": "1.2.0",
            "_model_name": "LayoutModel",
            "_view_count": null,
            "_view_module": "@jupyter-widgets/base",
            "_view_module_version": "1.2.0",
            "_view_name": "LayoutView",
            "align_content": null,
            "align_items": null,
            "align_self": null,
            "border": null,
            "bottom": null,
            "display": null,
            "flex": null,
            "flex_flow": null,
            "grid_area": null,
            "grid_auto_columns": null,
            "grid_auto_flow": null,
            "grid_auto_rows": null,
            "grid_column": null,
            "grid_gap": null,
            "grid_row": null,
            "grid_template_areas": null,
            "grid_template_columns": null,
            "grid_template_rows": null,
            "height": null,
            "justify_content": null,
            "justify_items": null,
            "left": null,
            "margin": null,
            "max_height": null,
            "max_width": null,
            "min_height": null,
            "min_width": null,
            "object_fit": null,
            "object_position": null,
            "order": null,
            "overflow": null,
            "overflow_x": null,
            "overflow_y": null,
            "padding": null,
            "right": null,
            "top": null,
            "visibility": null,
            "width": null
          }
        },
        "e1ec59a24e964a09a5d239ce1d996403": {
          "model_module": "@jupyter-widgets/base",
          "model_name": "LayoutModel",
          "model_module_version": "1.2.0",
          "state": {
            "_model_module": "@jupyter-widgets/base",
            "_model_module_version": "1.2.0",
            "_model_name": "LayoutModel",
            "_view_count": null,
            "_view_module": "@jupyter-widgets/base",
            "_view_module_version": "1.2.0",
            "_view_name": "LayoutView",
            "align_content": null,
            "align_items": null,
            "align_self": null,
            "border": null,
            "bottom": null,
            "display": null,
            "flex": null,
            "flex_flow": null,
            "grid_area": null,
            "grid_auto_columns": null,
            "grid_auto_flow": null,
            "grid_auto_rows": null,
            "grid_column": null,
            "grid_gap": null,
            "grid_row": null,
            "grid_template_areas": null,
            "grid_template_columns": null,
            "grid_template_rows": null,
            "height": null,
            "justify_content": null,
            "justify_items": null,
            "left": null,
            "margin": null,
            "max_height": null,
            "max_width": null,
            "min_height": null,
            "min_width": null,
            "object_fit": null,
            "object_position": null,
            "order": null,
            "overflow": null,
            "overflow_x": null,
            "overflow_y": null,
            "padding": null,
            "right": null,
            "top": null,
            "visibility": null,
            "width": null
          }
        },
        "22ef67aff80b4fa5acb31148190684be": {
          "model_module": "@jupyter-widgets/controls",
          "model_name": "DescriptionStyleModel",
          "model_module_version": "1.5.0",
          "state": {
            "_model_module": "@jupyter-widgets/controls",
            "_model_module_version": "1.5.0",
            "_model_name": "DescriptionStyleModel",
            "_view_count": null,
            "_view_module": "@jupyter-widgets/base",
            "_view_module_version": "1.2.0",
            "_view_name": "StyleView",
            "description_width": ""
          }
        },
        "d6993252534042779c1d889ec49a7774": {
          "model_module": "@jupyter-widgets/base",
          "model_name": "LayoutModel",
          "model_module_version": "1.2.0",
          "state": {
            "_model_module": "@jupyter-widgets/base",
            "_model_module_version": "1.2.0",
            "_model_name": "LayoutModel",
            "_view_count": null,
            "_view_module": "@jupyter-widgets/base",
            "_view_module_version": "1.2.0",
            "_view_name": "LayoutView",
            "align_content": null,
            "align_items": null,
            "align_self": null,
            "border": null,
            "bottom": null,
            "display": null,
            "flex": null,
            "flex_flow": null,
            "grid_area": null,
            "grid_auto_columns": null,
            "grid_auto_flow": null,
            "grid_auto_rows": null,
            "grid_column": null,
            "grid_gap": null,
            "grid_row": null,
            "grid_template_areas": null,
            "grid_template_columns": null,
            "grid_template_rows": null,
            "height": null,
            "justify_content": null,
            "justify_items": null,
            "left": null,
            "margin": null,
            "max_height": null,
            "max_width": null,
            "min_height": null,
            "min_width": null,
            "object_fit": null,
            "object_position": null,
            "order": null,
            "overflow": null,
            "overflow_x": null,
            "overflow_y": null,
            "padding": null,
            "right": null,
            "top": null,
            "visibility": null,
            "width": null
          }
        },
        "2c29efffd964442389a50c93e2c7891f": {
          "model_module": "@jupyter-widgets/controls",
          "model_name": "ProgressStyleModel",
          "model_module_version": "1.5.0",
          "state": {
            "_model_module": "@jupyter-widgets/controls",
            "_model_module_version": "1.5.0",
            "_model_name": "ProgressStyleModel",
            "_view_count": null,
            "_view_module": "@jupyter-widgets/base",
            "_view_module_version": "1.2.0",
            "_view_name": "StyleView",
            "bar_color": null,
            "description_width": ""
          }
        },
        "2119e54adba341e19e8ac5482a4fbb9f": {
          "model_module": "@jupyter-widgets/base",
          "model_name": "LayoutModel",
          "model_module_version": "1.2.0",
          "state": {
            "_model_module": "@jupyter-widgets/base",
            "_model_module_version": "1.2.0",
            "_model_name": "LayoutModel",
            "_view_count": null,
            "_view_module": "@jupyter-widgets/base",
            "_view_module_version": "1.2.0",
            "_view_name": "LayoutView",
            "align_content": null,
            "align_items": null,
            "align_self": null,
            "border": null,
            "bottom": null,
            "display": null,
            "flex": null,
            "flex_flow": null,
            "grid_area": null,
            "grid_auto_columns": null,
            "grid_auto_flow": null,
            "grid_auto_rows": null,
            "grid_column": null,
            "grid_gap": null,
            "grid_row": null,
            "grid_template_areas": null,
            "grid_template_columns": null,
            "grid_template_rows": null,
            "height": null,
            "justify_content": null,
            "justify_items": null,
            "left": null,
            "margin": null,
            "max_height": null,
            "max_width": null,
            "min_height": null,
            "min_width": null,
            "object_fit": null,
            "object_position": null,
            "order": null,
            "overflow": null,
            "overflow_x": null,
            "overflow_y": null,
            "padding": null,
            "right": null,
            "top": null,
            "visibility": null,
            "width": null
          }
        },
        "075e091d94a24c5d88bb83b9c2248a7c": {
          "model_module": "@jupyter-widgets/controls",
          "model_name": "DescriptionStyleModel",
          "model_module_version": "1.5.0",
          "state": {
            "_model_module": "@jupyter-widgets/controls",
            "_model_module_version": "1.5.0",
            "_model_name": "DescriptionStyleModel",
            "_view_count": null,
            "_view_module": "@jupyter-widgets/base",
            "_view_module_version": "1.2.0",
            "_view_name": "StyleView",
            "description_width": ""
          }
        },
        "26bc30e444c5444d865350aac1e8d84c": {
          "model_module": "@jupyter-widgets/controls",
          "model_name": "HBoxModel",
          "model_module_version": "1.5.0",
          "state": {
            "_dom_classes": [],
            "_model_module": "@jupyter-widgets/controls",
            "_model_module_version": "1.5.0",
            "_model_name": "HBoxModel",
            "_view_count": null,
            "_view_module": "@jupyter-widgets/controls",
            "_view_module_version": "1.5.0",
            "_view_name": "HBoxView",
            "box_style": "",
            "children": [
              "IPY_MODEL_f0816d70ba2f44cfb971b741ed016031",
              "IPY_MODEL_97f3a123eafa408a9190a482ac5f5f5e",
              "IPY_MODEL_7b6fa9cabf364b2ea2e39fba662c8f2a"
            ],
            "layout": "IPY_MODEL_e18ff64961a84af5b301bc1d93e680f5"
          }
        },
        "f0816d70ba2f44cfb971b741ed016031": {
          "model_module": "@jupyter-widgets/controls",
          "model_name": "HTMLModel",
          "model_module_version": "1.5.0",
          "state": {
            "_dom_classes": [],
            "_model_module": "@jupyter-widgets/controls",
            "_model_module_version": "1.5.0",
            "_model_name": "HTMLModel",
            "_view_count": null,
            "_view_module": "@jupyter-widgets/controls",
            "_view_module_version": "1.5.0",
            "_view_name": "HTMLView",
            "description": "",
            "description_tooltip": null,
            "layout": "IPY_MODEL_fa800677bf27461f9269093a04f505bb",
            "placeholder": "​",
            "style": "IPY_MODEL_b93f89698b7d4dafb0a5fdec7fbbf8aa",
            "value": "Augmenting data: 100%"
          }
        },
        "97f3a123eafa408a9190a482ac5f5f5e": {
          "model_module": "@jupyter-widgets/controls",
          "model_name": "FloatProgressModel",
          "model_module_version": "1.5.0",
          "state": {
            "_dom_classes": [],
            "_model_module": "@jupyter-widgets/controls",
            "_model_module_version": "1.5.0",
            "_model_name": "FloatProgressModel",
            "_view_count": null,
            "_view_module": "@jupyter-widgets/controls",
            "_view_module_version": "1.5.0",
            "_view_name": "ProgressView",
            "bar_style": "success",
            "description": "",
            "description_tooltip": null,
            "layout": "IPY_MODEL_c475cff3a9104acd8cc76ad31d2dfd61",
            "max": 2534,
            "min": 0,
            "orientation": "horizontal",
            "style": "IPY_MODEL_ce18785bba7c4608ab87813a3b4a1c69",
            "value": 2534
          }
        },
        "7b6fa9cabf364b2ea2e39fba662c8f2a": {
          "model_module": "@jupyter-widgets/controls",
          "model_name": "HTMLModel",
          "model_module_version": "1.5.0",
          "state": {
            "_dom_classes": [],
            "_model_module": "@jupyter-widgets/controls",
            "_model_module_version": "1.5.0",
            "_model_name": "HTMLModel",
            "_view_count": null,
            "_view_module": "@jupyter-widgets/controls",
            "_view_module_version": "1.5.0",
            "_view_name": "HTMLView",
            "description": "",
            "description_tooltip": null,
            "layout": "IPY_MODEL_c312df9def664e1e9db0679050e9fe1e",
            "placeholder": "​",
            "style": "IPY_MODEL_8c74aa1197fd4d04a0d0861e3f2810ac",
            "value": " 2534/2534 [02:19&lt;00:00, 20.31it/s]"
          }
        },
        "e18ff64961a84af5b301bc1d93e680f5": {
          "model_module": "@jupyter-widgets/base",
          "model_name": "LayoutModel",
          "model_module_version": "1.2.0",
          "state": {
            "_model_module": "@jupyter-widgets/base",
            "_model_module_version": "1.2.0",
            "_model_name": "LayoutModel",
            "_view_count": null,
            "_view_module": "@jupyter-widgets/base",
            "_view_module_version": "1.2.0",
            "_view_name": "LayoutView",
            "align_content": null,
            "align_items": null,
            "align_self": null,
            "border": null,
            "bottom": null,
            "display": null,
            "flex": null,
            "flex_flow": null,
            "grid_area": null,
            "grid_auto_columns": null,
            "grid_auto_flow": null,
            "grid_auto_rows": null,
            "grid_column": null,
            "grid_gap": null,
            "grid_row": null,
            "grid_template_areas": null,
            "grid_template_columns": null,
            "grid_template_rows": null,
            "height": null,
            "justify_content": null,
            "justify_items": null,
            "left": null,
            "margin": null,
            "max_height": null,
            "max_width": null,
            "min_height": null,
            "min_width": null,
            "object_fit": null,
            "object_position": null,
            "order": null,
            "overflow": null,
            "overflow_x": null,
            "overflow_y": null,
            "padding": null,
            "right": null,
            "top": null,
            "visibility": null,
            "width": null
          }
        },
        "fa800677bf27461f9269093a04f505bb": {
          "model_module": "@jupyter-widgets/base",
          "model_name": "LayoutModel",
          "model_module_version": "1.2.0",
          "state": {
            "_model_module": "@jupyter-widgets/base",
            "_model_module_version": "1.2.0",
            "_model_name": "LayoutModel",
            "_view_count": null,
            "_view_module": "@jupyter-widgets/base",
            "_view_module_version": "1.2.0",
            "_view_name": "LayoutView",
            "align_content": null,
            "align_items": null,
            "align_self": null,
            "border": null,
            "bottom": null,
            "display": null,
            "flex": null,
            "flex_flow": null,
            "grid_area": null,
            "grid_auto_columns": null,
            "grid_auto_flow": null,
            "grid_auto_rows": null,
            "grid_column": null,
            "grid_gap": null,
            "grid_row": null,
            "grid_template_areas": null,
            "grid_template_columns": null,
            "grid_template_rows": null,
            "height": null,
            "justify_content": null,
            "justify_items": null,
            "left": null,
            "margin": null,
            "max_height": null,
            "max_width": null,
            "min_height": null,
            "min_width": null,
            "object_fit": null,
            "object_position": null,
            "order": null,
            "overflow": null,
            "overflow_x": null,
            "overflow_y": null,
            "padding": null,
            "right": null,
            "top": null,
            "visibility": null,
            "width": null
          }
        },
        "b93f89698b7d4dafb0a5fdec7fbbf8aa": {
          "model_module": "@jupyter-widgets/controls",
          "model_name": "DescriptionStyleModel",
          "model_module_version": "1.5.0",
          "state": {
            "_model_module": "@jupyter-widgets/controls",
            "_model_module_version": "1.5.0",
            "_model_name": "DescriptionStyleModel",
            "_view_count": null,
            "_view_module": "@jupyter-widgets/base",
            "_view_module_version": "1.2.0",
            "_view_name": "StyleView",
            "description_width": ""
          }
        },
        "c475cff3a9104acd8cc76ad31d2dfd61": {
          "model_module": "@jupyter-widgets/base",
          "model_name": "LayoutModel",
          "model_module_version": "1.2.0",
          "state": {
            "_model_module": "@jupyter-widgets/base",
            "_model_module_version": "1.2.0",
            "_model_name": "LayoutModel",
            "_view_count": null,
            "_view_module": "@jupyter-widgets/base",
            "_view_module_version": "1.2.0",
            "_view_name": "LayoutView",
            "align_content": null,
            "align_items": null,
            "align_self": null,
            "border": null,
            "bottom": null,
            "display": null,
            "flex": null,
            "flex_flow": null,
            "grid_area": null,
            "grid_auto_columns": null,
            "grid_auto_flow": null,
            "grid_auto_rows": null,
            "grid_column": null,
            "grid_gap": null,
            "grid_row": null,
            "grid_template_areas": null,
            "grid_template_columns": null,
            "grid_template_rows": null,
            "height": null,
            "justify_content": null,
            "justify_items": null,
            "left": null,
            "margin": null,
            "max_height": null,
            "max_width": null,
            "min_height": null,
            "min_width": null,
            "object_fit": null,
            "object_position": null,
            "order": null,
            "overflow": null,
            "overflow_x": null,
            "overflow_y": null,
            "padding": null,
            "right": null,
            "top": null,
            "visibility": null,
            "width": null
          }
        },
        "ce18785bba7c4608ab87813a3b4a1c69": {
          "model_module": "@jupyter-widgets/controls",
          "model_name": "ProgressStyleModel",
          "model_module_version": "1.5.0",
          "state": {
            "_model_module": "@jupyter-widgets/controls",
            "_model_module_version": "1.5.0",
            "_model_name": "ProgressStyleModel",
            "_view_count": null,
            "_view_module": "@jupyter-widgets/base",
            "_view_module_version": "1.2.0",
            "_view_name": "StyleView",
            "bar_color": null,
            "description_width": ""
          }
        },
        "c312df9def664e1e9db0679050e9fe1e": {
          "model_module": "@jupyter-widgets/base",
          "model_name": "LayoutModel",
          "model_module_version": "1.2.0",
          "state": {
            "_model_module": "@jupyter-widgets/base",
            "_model_module_version": "1.2.0",
            "_model_name": "LayoutModel",
            "_view_count": null,
            "_view_module": "@jupyter-widgets/base",
            "_view_module_version": "1.2.0",
            "_view_name": "LayoutView",
            "align_content": null,
            "align_items": null,
            "align_self": null,
            "border": null,
            "bottom": null,
            "display": null,
            "flex": null,
            "flex_flow": null,
            "grid_area": null,
            "grid_auto_columns": null,
            "grid_auto_flow": null,
            "grid_auto_rows": null,
            "grid_column": null,
            "grid_gap": null,
            "grid_row": null,
            "grid_template_areas": null,
            "grid_template_columns": null,
            "grid_template_rows": null,
            "height": null,
            "justify_content": null,
            "justify_items": null,
            "left": null,
            "margin": null,
            "max_height": null,
            "max_width": null,
            "min_height": null,
            "min_width": null,
            "object_fit": null,
            "object_position": null,
            "order": null,
            "overflow": null,
            "overflow_x": null,
            "overflow_y": null,
            "padding": null,
            "right": null,
            "top": null,
            "visibility": null,
            "width": null
          }
        },
        "8c74aa1197fd4d04a0d0861e3f2810ac": {
          "model_module": "@jupyter-widgets/controls",
          "model_name": "DescriptionStyleModel",
          "model_module_version": "1.5.0",
          "state": {
            "_model_module": "@jupyter-widgets/controls",
            "_model_module_version": "1.5.0",
            "_model_name": "DescriptionStyleModel",
            "_view_count": null,
            "_view_module": "@jupyter-widgets/base",
            "_view_module_version": "1.2.0",
            "_view_name": "StyleView",
            "description_width": ""
          }
        },
        "c4c2d945a7c14c8e8377020c99676bda": {
          "model_module": "@jupyter-widgets/controls",
          "model_name": "HBoxModel",
          "model_module_version": "1.5.0",
          "state": {
            "_dom_classes": [],
            "_model_module": "@jupyter-widgets/controls",
            "_model_module_version": "1.5.0",
            "_model_name": "HBoxModel",
            "_view_count": null,
            "_view_module": "@jupyter-widgets/controls",
            "_view_module_version": "1.5.0",
            "_view_name": "HBoxView",
            "box_style": "",
            "children": [
              "IPY_MODEL_f2d2ef7ed1de4c40ac7876eefa750bce",
              "IPY_MODEL_24b3f017ed774643b757fb108502402e",
              "IPY_MODEL_3cfffeed129d4746b34277ed4f0d7471"
            ],
            "layout": "IPY_MODEL_fdf41735d5a64da784314caae648a9fe"
          }
        },
        "f2d2ef7ed1de4c40ac7876eefa750bce": {
          "model_module": "@jupyter-widgets/controls",
          "model_name": "HTMLModel",
          "model_module_version": "1.5.0",
          "state": {
            "_dom_classes": [],
            "_model_module": "@jupyter-widgets/controls",
            "_model_module_version": "1.5.0",
            "_model_name": "HTMLModel",
            "_view_count": null,
            "_view_module": "@jupyter-widgets/controls",
            "_view_module_version": "1.5.0",
            "_view_name": "HTMLView",
            "description": "",
            "description_tooltip": null,
            "layout": "IPY_MODEL_204aea5b0bed4b3283736ea3f6afea21",
            "placeholder": "​",
            "style": "IPY_MODEL_79ed730cfcd64d5190d1499e947ab419",
            "value": "Processing val: 100%"
          }
        },
        "24b3f017ed774643b757fb108502402e": {
          "model_module": "@jupyter-widgets/controls",
          "model_name": "FloatProgressModel",
          "model_module_version": "1.5.0",
          "state": {
            "_dom_classes": [],
            "_model_module": "@jupyter-widgets/controls",
            "_model_module_version": "1.5.0",
            "_model_name": "FloatProgressModel",
            "_view_count": null,
            "_view_module": "@jupyter-widgets/controls",
            "_view_module_version": "1.5.0",
            "_view_name": "ProgressView",
            "bar_style": "success",
            "description": "",
            "description_tooltip": null,
            "layout": "IPY_MODEL_78de8ed2dfae49d4969e005928facf7e",
            "max": 16,
            "min": 0,
            "orientation": "horizontal",
            "style": "IPY_MODEL_9fab6ff1ad6e40409f8d1acabc252cdd",
            "value": 16
          }
        },
        "3cfffeed129d4746b34277ed4f0d7471": {
          "model_module": "@jupyter-widgets/controls",
          "model_name": "HTMLModel",
          "model_module_version": "1.5.0",
          "state": {
            "_dom_classes": [],
            "_model_module": "@jupyter-widgets/controls",
            "_model_module_version": "1.5.0",
            "_model_name": "HTMLModel",
            "_view_count": null,
            "_view_module": "@jupyter-widgets/controls",
            "_view_module_version": "1.5.0",
            "_view_name": "HTMLView",
            "description": "",
            "description_tooltip": null,
            "layout": "IPY_MODEL_1c1dc2aa5a204d98a2f7798f5c366ad6",
            "placeholder": "​",
            "style": "IPY_MODEL_74ca87bee5534764869db9d28e8f9a52",
            "value": " 16/16 [00:00&lt;00:00, 22.44it/s]"
          }
        },
        "fdf41735d5a64da784314caae648a9fe": {
          "model_module": "@jupyter-widgets/base",
          "model_name": "LayoutModel",
          "model_module_version": "1.2.0",
          "state": {
            "_model_module": "@jupyter-widgets/base",
            "_model_module_version": "1.2.0",
            "_model_name": "LayoutModel",
            "_view_count": null,
            "_view_module": "@jupyter-widgets/base",
            "_view_module_version": "1.2.0",
            "_view_name": "LayoutView",
            "align_content": null,
            "align_items": null,
            "align_self": null,
            "border": null,
            "bottom": null,
            "display": null,
            "flex": null,
            "flex_flow": null,
            "grid_area": null,
            "grid_auto_columns": null,
            "grid_auto_flow": null,
            "grid_auto_rows": null,
            "grid_column": null,
            "grid_gap": null,
            "grid_row": null,
            "grid_template_areas": null,
            "grid_template_columns": null,
            "grid_template_rows": null,
            "height": null,
            "justify_content": null,
            "justify_items": null,
            "left": null,
            "margin": null,
            "max_height": null,
            "max_width": null,
            "min_height": null,
            "min_width": null,
            "object_fit": null,
            "object_position": null,
            "order": null,
            "overflow": null,
            "overflow_x": null,
            "overflow_y": null,
            "padding": null,
            "right": null,
            "top": null,
            "visibility": null,
            "width": null
          }
        },
        "204aea5b0bed4b3283736ea3f6afea21": {
          "model_module": "@jupyter-widgets/base",
          "model_name": "LayoutModel",
          "model_module_version": "1.2.0",
          "state": {
            "_model_module": "@jupyter-widgets/base",
            "_model_module_version": "1.2.0",
            "_model_name": "LayoutModel",
            "_view_count": null,
            "_view_module": "@jupyter-widgets/base",
            "_view_module_version": "1.2.0",
            "_view_name": "LayoutView",
            "align_content": null,
            "align_items": null,
            "align_self": null,
            "border": null,
            "bottom": null,
            "display": null,
            "flex": null,
            "flex_flow": null,
            "grid_area": null,
            "grid_auto_columns": null,
            "grid_auto_flow": null,
            "grid_auto_rows": null,
            "grid_column": null,
            "grid_gap": null,
            "grid_row": null,
            "grid_template_areas": null,
            "grid_template_columns": null,
            "grid_template_rows": null,
            "height": null,
            "justify_content": null,
            "justify_items": null,
            "left": null,
            "margin": null,
            "max_height": null,
            "max_width": null,
            "min_height": null,
            "min_width": null,
            "object_fit": null,
            "object_position": null,
            "order": null,
            "overflow": null,
            "overflow_x": null,
            "overflow_y": null,
            "padding": null,
            "right": null,
            "top": null,
            "visibility": null,
            "width": null
          }
        },
        "79ed730cfcd64d5190d1499e947ab419": {
          "model_module": "@jupyter-widgets/controls",
          "model_name": "DescriptionStyleModel",
          "model_module_version": "1.5.0",
          "state": {
            "_model_module": "@jupyter-widgets/controls",
            "_model_module_version": "1.5.0",
            "_model_name": "DescriptionStyleModel",
            "_view_count": null,
            "_view_module": "@jupyter-widgets/base",
            "_view_module_version": "1.2.0",
            "_view_name": "StyleView",
            "description_width": ""
          }
        },
        "78de8ed2dfae49d4969e005928facf7e": {
          "model_module": "@jupyter-widgets/base",
          "model_name": "LayoutModel",
          "model_module_version": "1.2.0",
          "state": {
            "_model_module": "@jupyter-widgets/base",
            "_model_module_version": "1.2.0",
            "_model_name": "LayoutModel",
            "_view_count": null,
            "_view_module": "@jupyter-widgets/base",
            "_view_module_version": "1.2.0",
            "_view_name": "LayoutView",
            "align_content": null,
            "align_items": null,
            "align_self": null,
            "border": null,
            "bottom": null,
            "display": null,
            "flex": null,
            "flex_flow": null,
            "grid_area": null,
            "grid_auto_columns": null,
            "grid_auto_flow": null,
            "grid_auto_rows": null,
            "grid_column": null,
            "grid_gap": null,
            "grid_row": null,
            "grid_template_areas": null,
            "grid_template_columns": null,
            "grid_template_rows": null,
            "height": null,
            "justify_content": null,
            "justify_items": null,
            "left": null,
            "margin": null,
            "max_height": null,
            "max_width": null,
            "min_height": null,
            "min_width": null,
            "object_fit": null,
            "object_position": null,
            "order": null,
            "overflow": null,
            "overflow_x": null,
            "overflow_y": null,
            "padding": null,
            "right": null,
            "top": null,
            "visibility": null,
            "width": null
          }
        },
        "9fab6ff1ad6e40409f8d1acabc252cdd": {
          "model_module": "@jupyter-widgets/controls",
          "model_name": "ProgressStyleModel",
          "model_module_version": "1.5.0",
          "state": {
            "_model_module": "@jupyter-widgets/controls",
            "_model_module_version": "1.5.0",
            "_model_name": "ProgressStyleModel",
            "_view_count": null,
            "_view_module": "@jupyter-widgets/base",
            "_view_module_version": "1.2.0",
            "_view_name": "StyleView",
            "bar_color": null,
            "description_width": ""
          }
        },
        "1c1dc2aa5a204d98a2f7798f5c366ad6": {
          "model_module": "@jupyter-widgets/base",
          "model_name": "LayoutModel",
          "model_module_version": "1.2.0",
          "state": {
            "_model_module": "@jupyter-widgets/base",
            "_model_module_version": "1.2.0",
            "_model_name": "LayoutModel",
            "_view_count": null,
            "_view_module": "@jupyter-widgets/base",
            "_view_module_version": "1.2.0",
            "_view_name": "LayoutView",
            "align_content": null,
            "align_items": null,
            "align_self": null,
            "border": null,
            "bottom": null,
            "display": null,
            "flex": null,
            "flex_flow": null,
            "grid_area": null,
            "grid_auto_columns": null,
            "grid_auto_flow": null,
            "grid_auto_rows": null,
            "grid_column": null,
            "grid_gap": null,
            "grid_row": null,
            "grid_template_areas": null,
            "grid_template_columns": null,
            "grid_template_rows": null,
            "height": null,
            "justify_content": null,
            "justify_items": null,
            "left": null,
            "margin": null,
            "max_height": null,
            "max_width": null,
            "min_height": null,
            "min_width": null,
            "object_fit": null,
            "object_position": null,
            "order": null,
            "overflow": null,
            "overflow_x": null,
            "overflow_y": null,
            "padding": null,
            "right": null,
            "top": null,
            "visibility": null,
            "width": null
          }
        },
        "74ca87bee5534764869db9d28e8f9a52": {
          "model_module": "@jupyter-widgets/controls",
          "model_name": "DescriptionStyleModel",
          "model_module_version": "1.5.0",
          "state": {
            "_model_module": "@jupyter-widgets/controls",
            "_model_module_version": "1.5.0",
            "_model_name": "DescriptionStyleModel",
            "_view_count": null,
            "_view_module": "@jupyter-widgets/base",
            "_view_module_version": "1.2.0",
            "_view_name": "StyleView",
            "description_width": ""
          }
        },
        "1e4b0dc2b6d84584bd8011707498e04c": {
          "model_module": "@jupyter-widgets/controls",
          "model_name": "HBoxModel",
          "model_module_version": "1.5.0",
          "state": {
            "_dom_classes": [],
            "_model_module": "@jupyter-widgets/controls",
            "_model_module_version": "1.5.0",
            "_model_name": "HBoxModel",
            "_view_count": null,
            "_view_module": "@jupyter-widgets/controls",
            "_view_module_version": "1.5.0",
            "_view_name": "HBoxView",
            "box_style": "",
            "children": [
              "IPY_MODEL_642c8b2aa1054c699e890fad1b986ab2",
              "IPY_MODEL_66ca386e2c864cfab1a3224029a921e8",
              "IPY_MODEL_90aeae7ac95842e99f4f816a49939556"
            ],
            "layout": "IPY_MODEL_373a3c0675a1423fb0216814412f2bb2"
          }
        },
        "642c8b2aa1054c699e890fad1b986ab2": {
          "model_module": "@jupyter-widgets/controls",
          "model_name": "HTMLModel",
          "model_module_version": "1.5.0",
          "state": {
            "_dom_classes": [],
            "_model_module": "@jupyter-widgets/controls",
            "_model_module_version": "1.5.0",
            "_model_name": "HTMLModel",
            "_view_count": null,
            "_view_module": "@jupyter-widgets/controls",
            "_view_module_version": "1.5.0",
            "_view_name": "HTMLView",
            "description": "",
            "description_tooltip": null,
            "layout": "IPY_MODEL_ad36587834aa474793d188a372165ab6",
            "placeholder": "​",
            "style": "IPY_MODEL_7de1377638cf45569989d695ac620dff",
            "value": "Processing test: 100%"
          }
        },
        "66ca386e2c864cfab1a3224029a921e8": {
          "model_module": "@jupyter-widgets/controls",
          "model_name": "FloatProgressModel",
          "model_module_version": "1.5.0",
          "state": {
            "_dom_classes": [],
            "_model_module": "@jupyter-widgets/controls",
            "_model_module_version": "1.5.0",
            "_model_name": "FloatProgressModel",
            "_view_count": null,
            "_view_module": "@jupyter-widgets/controls",
            "_view_module_version": "1.5.0",
            "_view_name": "ProgressView",
            "bar_style": "success",
            "description": "",
            "description_tooltip": null,
            "layout": "IPY_MODEL_14e73128a6474c7eb3f866c39ed94fc7",
            "max": 624,
            "min": 0,
            "orientation": "horizontal",
            "style": "IPY_MODEL_c94e353e488c4068a5ba0f450eda557a",
            "value": 624
          }
        },
        "90aeae7ac95842e99f4f816a49939556": {
          "model_module": "@jupyter-widgets/controls",
          "model_name": "HTMLModel",
          "model_module_version": "1.5.0",
          "state": {
            "_dom_classes": [],
            "_model_module": "@jupyter-widgets/controls",
            "_model_module_version": "1.5.0",
            "_model_name": "HTMLModel",
            "_view_count": null,
            "_view_module": "@jupyter-widgets/controls",
            "_view_module_version": "1.5.0",
            "_view_name": "HTMLView",
            "description": "",
            "description_tooltip": null,
            "layout": "IPY_MODEL_85c7d9edb85f49ee9da38582737d0548",
            "placeholder": "​",
            "style": "IPY_MODEL_fc6f0dd239d4447288bb1851c9570275",
            "value": " 624/624 [00:22&lt;00:00, 28.71it/s]"
          }
        },
        "373a3c0675a1423fb0216814412f2bb2": {
          "model_module": "@jupyter-widgets/base",
          "model_name": "LayoutModel",
          "model_module_version": "1.2.0",
          "state": {
            "_model_module": "@jupyter-widgets/base",
            "_model_module_version": "1.2.0",
            "_model_name": "LayoutModel",
            "_view_count": null,
            "_view_module": "@jupyter-widgets/base",
            "_view_module_version": "1.2.0",
            "_view_name": "LayoutView",
            "align_content": null,
            "align_items": null,
            "align_self": null,
            "border": null,
            "bottom": null,
            "display": null,
            "flex": null,
            "flex_flow": null,
            "grid_area": null,
            "grid_auto_columns": null,
            "grid_auto_flow": null,
            "grid_auto_rows": null,
            "grid_column": null,
            "grid_gap": null,
            "grid_row": null,
            "grid_template_areas": null,
            "grid_template_columns": null,
            "grid_template_rows": null,
            "height": null,
            "justify_content": null,
            "justify_items": null,
            "left": null,
            "margin": null,
            "max_height": null,
            "max_width": null,
            "min_height": null,
            "min_width": null,
            "object_fit": null,
            "object_position": null,
            "order": null,
            "overflow": null,
            "overflow_x": null,
            "overflow_y": null,
            "padding": null,
            "right": null,
            "top": null,
            "visibility": null,
            "width": null
          }
        },
        "ad36587834aa474793d188a372165ab6": {
          "model_module": "@jupyter-widgets/base",
          "model_name": "LayoutModel",
          "model_module_version": "1.2.0",
          "state": {
            "_model_module": "@jupyter-widgets/base",
            "_model_module_version": "1.2.0",
            "_model_name": "LayoutModel",
            "_view_count": null,
            "_view_module": "@jupyter-widgets/base",
            "_view_module_version": "1.2.0",
            "_view_name": "LayoutView",
            "align_content": null,
            "align_items": null,
            "align_self": null,
            "border": null,
            "bottom": null,
            "display": null,
            "flex": null,
            "flex_flow": null,
            "grid_area": null,
            "grid_auto_columns": null,
            "grid_auto_flow": null,
            "grid_auto_rows": null,
            "grid_column": null,
            "grid_gap": null,
            "grid_row": null,
            "grid_template_areas": null,
            "grid_template_columns": null,
            "grid_template_rows": null,
            "height": null,
            "justify_content": null,
            "justify_items": null,
            "left": null,
            "margin": null,
            "max_height": null,
            "max_width": null,
            "min_height": null,
            "min_width": null,
            "object_fit": null,
            "object_position": null,
            "order": null,
            "overflow": null,
            "overflow_x": null,
            "overflow_y": null,
            "padding": null,
            "right": null,
            "top": null,
            "visibility": null,
            "width": null
          }
        },
        "7de1377638cf45569989d695ac620dff": {
          "model_module": "@jupyter-widgets/controls",
          "model_name": "DescriptionStyleModel",
          "model_module_version": "1.5.0",
          "state": {
            "_model_module": "@jupyter-widgets/controls",
            "_model_module_version": "1.5.0",
            "_model_name": "DescriptionStyleModel",
            "_view_count": null,
            "_view_module": "@jupyter-widgets/base",
            "_view_module_version": "1.2.0",
            "_view_name": "StyleView",
            "description_width": ""
          }
        },
        "14e73128a6474c7eb3f866c39ed94fc7": {
          "model_module": "@jupyter-widgets/base",
          "model_name": "LayoutModel",
          "model_module_version": "1.2.0",
          "state": {
            "_model_module": "@jupyter-widgets/base",
            "_model_module_version": "1.2.0",
            "_model_name": "LayoutModel",
            "_view_count": null,
            "_view_module": "@jupyter-widgets/base",
            "_view_module_version": "1.2.0",
            "_view_name": "LayoutView",
            "align_content": null,
            "align_items": null,
            "align_self": null,
            "border": null,
            "bottom": null,
            "display": null,
            "flex": null,
            "flex_flow": null,
            "grid_area": null,
            "grid_auto_columns": null,
            "grid_auto_flow": null,
            "grid_auto_rows": null,
            "grid_column": null,
            "grid_gap": null,
            "grid_row": null,
            "grid_template_areas": null,
            "grid_template_columns": null,
            "grid_template_rows": null,
            "height": null,
            "justify_content": null,
            "justify_items": null,
            "left": null,
            "margin": null,
            "max_height": null,
            "max_width": null,
            "min_height": null,
            "min_width": null,
            "object_fit": null,
            "object_position": null,
            "order": null,
            "overflow": null,
            "overflow_x": null,
            "overflow_y": null,
            "padding": null,
            "right": null,
            "top": null,
            "visibility": null,
            "width": null
          }
        },
        "c94e353e488c4068a5ba0f450eda557a": {
          "model_module": "@jupyter-widgets/controls",
          "model_name": "ProgressStyleModel",
          "model_module_version": "1.5.0",
          "state": {
            "_model_module": "@jupyter-widgets/controls",
            "_model_module_version": "1.5.0",
            "_model_name": "ProgressStyleModel",
            "_view_count": null,
            "_view_module": "@jupyter-widgets/base",
            "_view_module_version": "1.2.0",
            "_view_name": "StyleView",
            "bar_color": null,
            "description_width": ""
          }
        },
        "85c7d9edb85f49ee9da38582737d0548": {
          "model_module": "@jupyter-widgets/base",
          "model_name": "LayoutModel",
          "model_module_version": "1.2.0",
          "state": {
            "_model_module": "@jupyter-widgets/base",
            "_model_module_version": "1.2.0",
            "_model_name": "LayoutModel",
            "_view_count": null,
            "_view_module": "@jupyter-widgets/base",
            "_view_module_version": "1.2.0",
            "_view_name": "LayoutView",
            "align_content": null,
            "align_items": null,
            "align_self": null,
            "border": null,
            "bottom": null,
            "display": null,
            "flex": null,
            "flex_flow": null,
            "grid_area": null,
            "grid_auto_columns": null,
            "grid_auto_flow": null,
            "grid_auto_rows": null,
            "grid_column": null,
            "grid_gap": null,
            "grid_row": null,
            "grid_template_areas": null,
            "grid_template_columns": null,
            "grid_template_rows": null,
            "height": null,
            "justify_content": null,
            "justify_items": null,
            "left": null,
            "margin": null,
            "max_height": null,
            "max_width": null,
            "min_height": null,
            "min_width": null,
            "object_fit": null,
            "object_position": null,
            "order": null,
            "overflow": null,
            "overflow_x": null,
            "overflow_y": null,
            "padding": null,
            "right": null,
            "top": null,
            "visibility": null,
            "width": null
          }
        },
        "fc6f0dd239d4447288bb1851c9570275": {
          "model_module": "@jupyter-widgets/controls",
          "model_name": "DescriptionStyleModel",
          "model_module_version": "1.5.0",
          "state": {
            "_model_module": "@jupyter-widgets/controls",
            "_model_module_version": "1.5.0",
            "_model_name": "DescriptionStyleModel",
            "_view_count": null,
            "_view_module": "@jupyter-widgets/base",
            "_view_module_version": "1.2.0",
            "_view_name": "StyleView",
            "description_width": ""
          }
        },
        "3b2093891ce84408bc00e88630dd115d": {
          "model_module": "@jupyter-widgets/controls",
          "model_name": "HBoxModel",
          "model_module_version": "1.5.0",
          "state": {
            "_dom_classes": [],
            "_model_module": "@jupyter-widgets/controls",
            "_model_module_version": "1.5.0",
            "_model_name": "HBoxModel",
            "_view_count": null,
            "_view_module": "@jupyter-widgets/controls",
            "_view_module_version": "1.5.0",
            "_view_name": "HBoxView",
            "box_style": "",
            "children": [
              "IPY_MODEL_9f9e1fc7217d452b83280547d754994c",
              "IPY_MODEL_fcd44885f9ef4c7bb68d892960bf6836",
              "IPY_MODEL_3f8868ef1b764ac5bad3cf14e5227c9f"
            ],
            "layout": "IPY_MODEL_f3678e17f6104663a54a989e6ffbf22e"
          }
        },
        "9f9e1fc7217d452b83280547d754994c": {
          "model_module": "@jupyter-widgets/controls",
          "model_name": "HTMLModel",
          "model_module_version": "1.5.0",
          "state": {
            "_dom_classes": [],
            "_model_module": "@jupyter-widgets/controls",
            "_model_module_version": "1.5.0",
            "_model_name": "HTMLModel",
            "_view_count": null,
            "_view_module": "@jupyter-widgets/controls",
            "_view_module_version": "1.5.0",
            "_view_name": "HTMLView",
            "description": "",
            "description_tooltip": null,
            "layout": "IPY_MODEL_630e0be6ade64faa95096db4dfe4651d",
            "placeholder": "​",
            "style": "IPY_MODEL_eb7dc3077a7042d6be0b865fb37e41bd",
            "value": "Processing train: 100%"
          }
        },
        "fcd44885f9ef4c7bb68d892960bf6836": {
          "model_module": "@jupyter-widgets/controls",
          "model_name": "FloatProgressModel",
          "model_module_version": "1.5.0",
          "state": {
            "_dom_classes": [],
            "_model_module": "@jupyter-widgets/controls",
            "_model_module_version": "1.5.0",
            "_model_name": "FloatProgressModel",
            "_view_count": null,
            "_view_module": "@jupyter-widgets/controls",
            "_view_module_version": "1.5.0",
            "_view_name": "ProgressView",
            "bar_style": "success",
            "description": "",
            "description_tooltip": null,
            "layout": "IPY_MODEL_16c6555d29394906beef2daf308983b4",
            "max": 7750,
            "min": 0,
            "orientation": "horizontal",
            "style": "IPY_MODEL_cb7fadbe9a2a437993e074d083923e3b",
            "value": 7750
          }
        },
        "3f8868ef1b764ac5bad3cf14e5227c9f": {
          "model_module": "@jupyter-widgets/controls",
          "model_name": "HTMLModel",
          "model_module_version": "1.5.0",
          "state": {
            "_dom_classes": [],
            "_model_module": "@jupyter-widgets/controls",
            "_model_module_version": "1.5.0",
            "_model_name": "HTMLModel",
            "_view_count": null,
            "_view_module": "@jupyter-widgets/controls",
            "_view_module_version": "1.5.0",
            "_view_name": "HTMLView",
            "description": "",
            "description_tooltip": null,
            "layout": "IPY_MODEL_aaa947b3745847e382c19e6ce7f955b4",
            "placeholder": "​",
            "style": "IPY_MODEL_317c1092ea6748439e1c76971c95e672",
            "value": " 7750/7750 [05:06&lt;00:00, 28.59it/s]"
          }
        },
        "f3678e17f6104663a54a989e6ffbf22e": {
          "model_module": "@jupyter-widgets/base",
          "model_name": "LayoutModel",
          "model_module_version": "1.2.0",
          "state": {
            "_model_module": "@jupyter-widgets/base",
            "_model_module_version": "1.2.0",
            "_model_name": "LayoutModel",
            "_view_count": null,
            "_view_module": "@jupyter-widgets/base",
            "_view_module_version": "1.2.0",
            "_view_name": "LayoutView",
            "align_content": null,
            "align_items": null,
            "align_self": null,
            "border": null,
            "bottom": null,
            "display": null,
            "flex": null,
            "flex_flow": null,
            "grid_area": null,
            "grid_auto_columns": null,
            "grid_auto_flow": null,
            "grid_auto_rows": null,
            "grid_column": null,
            "grid_gap": null,
            "grid_row": null,
            "grid_template_areas": null,
            "grid_template_columns": null,
            "grid_template_rows": null,
            "height": null,
            "justify_content": null,
            "justify_items": null,
            "left": null,
            "margin": null,
            "max_height": null,
            "max_width": null,
            "min_height": null,
            "min_width": null,
            "object_fit": null,
            "object_position": null,
            "order": null,
            "overflow": null,
            "overflow_x": null,
            "overflow_y": null,
            "padding": null,
            "right": null,
            "top": null,
            "visibility": null,
            "width": null
          }
        },
        "630e0be6ade64faa95096db4dfe4651d": {
          "model_module": "@jupyter-widgets/base",
          "model_name": "LayoutModel",
          "model_module_version": "1.2.0",
          "state": {
            "_model_module": "@jupyter-widgets/base",
            "_model_module_version": "1.2.0",
            "_model_name": "LayoutModel",
            "_view_count": null,
            "_view_module": "@jupyter-widgets/base",
            "_view_module_version": "1.2.0",
            "_view_name": "LayoutView",
            "align_content": null,
            "align_items": null,
            "align_self": null,
            "border": null,
            "bottom": null,
            "display": null,
            "flex": null,
            "flex_flow": null,
            "grid_area": null,
            "grid_auto_columns": null,
            "grid_auto_flow": null,
            "grid_auto_rows": null,
            "grid_column": null,
            "grid_gap": null,
            "grid_row": null,
            "grid_template_areas": null,
            "grid_template_columns": null,
            "grid_template_rows": null,
            "height": null,
            "justify_content": null,
            "justify_items": null,
            "left": null,
            "margin": null,
            "max_height": null,
            "max_width": null,
            "min_height": null,
            "min_width": null,
            "object_fit": null,
            "object_position": null,
            "order": null,
            "overflow": null,
            "overflow_x": null,
            "overflow_y": null,
            "padding": null,
            "right": null,
            "top": null,
            "visibility": null,
            "width": null
          }
        },
        "eb7dc3077a7042d6be0b865fb37e41bd": {
          "model_module": "@jupyter-widgets/controls",
          "model_name": "DescriptionStyleModel",
          "model_module_version": "1.5.0",
          "state": {
            "_model_module": "@jupyter-widgets/controls",
            "_model_module_version": "1.5.0",
            "_model_name": "DescriptionStyleModel",
            "_view_count": null,
            "_view_module": "@jupyter-widgets/base",
            "_view_module_version": "1.2.0",
            "_view_name": "StyleView",
            "description_width": ""
          }
        },
        "16c6555d29394906beef2daf308983b4": {
          "model_module": "@jupyter-widgets/base",
          "model_name": "LayoutModel",
          "model_module_version": "1.2.0",
          "state": {
            "_model_module": "@jupyter-widgets/base",
            "_model_module_version": "1.2.0",
            "_model_name": "LayoutModel",
            "_view_count": null,
            "_view_module": "@jupyter-widgets/base",
            "_view_module_version": "1.2.0",
            "_view_name": "LayoutView",
            "align_content": null,
            "align_items": null,
            "align_self": null,
            "border": null,
            "bottom": null,
            "display": null,
            "flex": null,
            "flex_flow": null,
            "grid_area": null,
            "grid_auto_columns": null,
            "grid_auto_flow": null,
            "grid_auto_rows": null,
            "grid_column": null,
            "grid_gap": null,
            "grid_row": null,
            "grid_template_areas": null,
            "grid_template_columns": null,
            "grid_template_rows": null,
            "height": null,
            "justify_content": null,
            "justify_items": null,
            "left": null,
            "margin": null,
            "max_height": null,
            "max_width": null,
            "min_height": null,
            "min_width": null,
            "object_fit": null,
            "object_position": null,
            "order": null,
            "overflow": null,
            "overflow_x": null,
            "overflow_y": null,
            "padding": null,
            "right": null,
            "top": null,
            "visibility": null,
            "width": null
          }
        },
        "cb7fadbe9a2a437993e074d083923e3b": {
          "model_module": "@jupyter-widgets/controls",
          "model_name": "ProgressStyleModel",
          "model_module_version": "1.5.0",
          "state": {
            "_model_module": "@jupyter-widgets/controls",
            "_model_module_version": "1.5.0",
            "_model_name": "ProgressStyleModel",
            "_view_count": null,
            "_view_module": "@jupyter-widgets/base",
            "_view_module_version": "1.2.0",
            "_view_name": "StyleView",
            "bar_color": null,
            "description_width": ""
          }
        },
        "aaa947b3745847e382c19e6ce7f955b4": {
          "model_module": "@jupyter-widgets/base",
          "model_name": "LayoutModel",
          "model_module_version": "1.2.0",
          "state": {
            "_model_module": "@jupyter-widgets/base",
            "_model_module_version": "1.2.0",
            "_model_name": "LayoutModel",
            "_view_count": null,
            "_view_module": "@jupyter-widgets/base",
            "_view_module_version": "1.2.0",
            "_view_name": "LayoutView",
            "align_content": null,
            "align_items": null,
            "align_self": null,
            "border": null,
            "bottom": null,
            "display": null,
            "flex": null,
            "flex_flow": null,
            "grid_area": null,
            "grid_auto_columns": null,
            "grid_auto_flow": null,
            "grid_auto_rows": null,
            "grid_column": null,
            "grid_gap": null,
            "grid_row": null,
            "grid_template_areas": null,
            "grid_template_columns": null,
            "grid_template_rows": null,
            "height": null,
            "justify_content": null,
            "justify_items": null,
            "left": null,
            "margin": null,
            "max_height": null,
            "max_width": null,
            "min_height": null,
            "min_width": null,
            "object_fit": null,
            "object_position": null,
            "order": null,
            "overflow": null,
            "overflow_x": null,
            "overflow_y": null,
            "padding": null,
            "right": null,
            "top": null,
            "visibility": null,
            "width": null
          }
        },
        "317c1092ea6748439e1c76971c95e672": {
          "model_module": "@jupyter-widgets/controls",
          "model_name": "DescriptionStyleModel",
          "model_module_version": "1.5.0",
          "state": {
            "_model_module": "@jupyter-widgets/controls",
            "_model_module_version": "1.5.0",
            "_model_name": "DescriptionStyleModel",
            "_view_count": null,
            "_view_module": "@jupyter-widgets/base",
            "_view_module_version": "1.2.0",
            "_view_name": "StyleView",
            "description_width": ""
          }
        }
      }
    }
  },
  "nbformat": 4,
  "nbformat_minor": 0
}